{
 "cells": [
  {
   "cell_type": "markdown",
   "id": "d33ecddc-6818-41a3-9d0d-b1b1cbcd286d",
   "metadata": {},
   "source": [
    "# How to combine control flow and state updates with Command"
   ]
  },
  {
   "cell_type": "markdown",
   "id": "7c0a8d03-80b4-47fd-9b17-e26aa9b081f3",
   "metadata": {},
   "source": [
    "!!! info \"Prerequisites\"\n",
    "    This guide assumes familiarity with the following:\n",
    "  \n",
    "    - [State](../../concepts/low_level#state)\n",
    "    - [Nodes](../../concepts/low_level#nodes)\n",
    "    - [Edges](../../concepts/low_level#edges)\n",
    "    - [Command](../../concepts/low_level#command)\n",
    "\n",
    "It can be useful to combine control flow (edges) and state updates (nodes). For example, you might want to BOTH perform state updates AND decide which node to go to next in the SAME node. LangGraph provides a way to do so by returning a `Command` object from node functions:\n",
    "\n",
    "```python\n",
    "def my_node(state: State) -> Command[Literal[\"my_other_node\"]]:\n",
    "    return Command(\n",
    "        # state update\n",
    "        update={\"foo\": \"bar\"},\n",
    "        # control flow\n",
    "        goto=\"my_other_node\"\n",
    "    )\n",
    "```\n",
    "\n",
    "If you are using [subgraphs](#subgraphs), you might want to navigate from a node within a subgraph to a different subgraph (i.e. a different node in the parent graph). To do so, you can specify `graph=Command.PARENT` in `Command`:\n",
    "\n",
    "```python\n",
    "def my_node(state: State) -> Command[Literal[\"my_other_node\"]]:\n",
    "    return Command(\n",
    "        update={\"foo\": \"bar\"},\n",
    "        goto=\"other_subgraph\",  # where `other_subgraph` is a node in the parent graph\n",
    "        graph=Command.PARENT\n",
    "    )\n",
    "```\n",
    "\n",
    "!!! important \"State updates with `Command.PARENT`\"\n",
    "\n",
    "    When you send updates from a subgraph node to a parent graph node for a key that's shared by both parent and subgraph [state schemas](../../concepts/low_level#schema), you **must** define a [reducer](../../concepts/low_level#reducers) for the key you're updating in the parent graph state. See this [example](#navigating-to-a-node-in-a-parent-graph) below.\n",
    "\n",
    "This guide shows how you can do use `Command` to add dynamic control flow in your LangGraph app."
   ]
  },
  {
   "cell_type": "markdown",
   "id": "d1c3f866-8c20-40c7-a201-35f6c9f4b680",
   "metadata": {},
   "source": [
    "## Setup\n",
    "\n",
    "First, let's install the required packages"
   ]
  },
  {
   "cell_type": "code",
   "execution_count": 1,
   "id": "6999c7fe-31bb-4c19-946a-85c2edc57da7",
   "metadata": {},
   "outputs": [],
   "source": [
    "%%capture --no-stderr\n",
    "%pip install -U langgraph"
   ]
  },
  {
   "cell_type": "markdown",
   "id": "0f131c92-4744-431c-a89c-7c382a15b79f",
   "metadata": {},
   "source": [
    "<div class=\"admonition tip\">\n",
    "    <p class=\"admonition-title\">Set up <a href=\"https://smith.langchain.com\">LangSmith</a> for LangGraph development</p>\n",
    "    <p style=\"padding-top: 5px;\">\n",
    "        Sign up for LangSmith to quickly spot issues and improve the performance of your LangGraph projects. LangSmith lets you use trace data to debug, test, and monitor your LLM apps built with LangGraph — read more about how to get started <a href=\"https://docs.smith.langchain.com\">here</a>. \n",
    "    </p>\n",
    "</div>"
   ]
  },
  {
   "cell_type": "markdown",
   "id": "f22c228f-6882-4757-8e7e-1ca51328af4a",
   "metadata": {},
   "source": [
    "Let's create a simple graph with 3 nodes: A, B and C. We will first execute node A, and then decide whether to go to Node B or Node C next based on the output of node A."
   ]
  },
  {
   "cell_type": "markdown",
   "id": "6a08d957-b3d2-4538-bf4a-68ef90a51b98",
   "metadata": {},
   "source": [
    "## Basic usage"
   ]
  },
  {
   "cell_type": "code",
   "execution_count": 2,
   "id": "4539b81b-09e9-4660-ac55-1b1775e13892",
   "metadata": {},
   "outputs": [],
   "source": [
    "import random\n",
    "from typing_extensions import TypedDict, Literal\n",
    "\n",
    "from langgraph.graph import StateGraph, START\n",
    "from langgraph.types import Command\n",
    "\n",
    "\n",
    "# Define graph state\n",
    "class State(TypedDict):\n",
    "    foo: str\n",
    "\n",
    "\n",
    "# Define the nodes\n",
    "\n",
    "\n",
    "def node_a(state: State) -> Command[Literal[\"node_b\", \"node_c\"]]:\n",
    "    print(\"Called A\")\n",
    "    value = random.choice([\"a\", \"b\"])\n",
    "    # this is a replacement for a conditional edge function\n",
    "    if value == \"a\":\n",
    "        goto = \"node_b\"\n",
    "    else:\n",
    "        goto = \"node_c\"\n",
    "\n",
    "    # note how Command allows you to BOTH update the graph state AND route to the next node\n",
    "    return Command(\n",
    "        # this is the state update\n",
    "        update={\"foo\": value},\n",
    "        # this is a replacement for an edge\n",
    "        goto=goto,\n",
    "    )\n",
    "\n",
    "\n",
    "def node_b(state: State):\n",
    "    print(\"Called B\")\n",
    "    return {\"foo\": state[\"foo\"] + \"b\"}\n",
    "\n",
    "\n",
    "def node_c(state: State):\n",
    "    print(\"Called C\")\n",
    "    return {\"foo\": state[\"foo\"] + \"c\"}"
   ]
  },
  {
   "cell_type": "markdown",
   "id": "badc25eb-4876-482e-bb10-d763023cdaad",
   "metadata": {},
   "source": [
    "We can now create the `StateGraph` with the above nodes. Notice that the graph doesn't have [conditional edges](../../concepts/low_level#conditional-edges) for routing! This is because control flow is defined with `Command` inside `node_a`."
   ]
  },
  {
   "cell_type": "code",
   "execution_count": 3,
   "id": "d6711650-4380-4551-a007-2805f49ab2d8",
   "metadata": {},
   "outputs": [],
   "source": [
    "builder = StateGraph(State)\n",
    "builder.add_edge(START, \"node_a\")\n",
    "builder.add_node(node_a)\n",
    "builder.add_node(node_b)\n",
    "builder.add_node(node_c)\n",
    "# NOTE: there are no edges between nodes A, B and C!\n",
    "\n",
    "graph = builder.compile()"
   ]
  },
  {
   "cell_type": "markdown",
   "id": "0ab344c5-d634-4d7d-b3b4-edf4fa875311",
   "metadata": {},
   "source": [
    "!!! important\n",
    "\n",
    "    You might have noticed that we used `Command` as a return type annotation, e.g. `Command[Literal[\"node_b\", \"node_c\"]]`. This is necessary for the graph rendering and tells LangGraph that `node_a` can navigate to `node_b` and `node_c`."
   ]
  },
  {
   "cell_type": "code",
   "execution_count": 4,
   "id": "eeb810e5-8822-4c09-8d53-c55cd0f5d42e",
   "metadata": {},
   "outputs": [
    {
     "data": {
      "image/png": "[encoded data removed]",
      "text/plain": [
       "<IPython.core.display.Image object>"
      ]
     },
     "metadata": {},
     "output_type": "display_data"
    }
   ],
   "source": [
    "from IPython.display import display, Image\n",
    "\n",
    "display(Image(graph.get_graph().draw_mermaid_png()))"
   ]
  },
  {
   "cell_type": "markdown",
   "id": "58fb6c32-e6fb-4c94-8182-e351ed52a45d",
   "metadata": {},
   "source": [
    "If we run the graph multiple times, we'd see it take different paths (A -> B or A -> C) based on the random choice in node A."
   ]
  },
  {
   "cell_type": "code",
   "execution_count": 5,
   "id": "d88a5d9b-ee08-4ed4-9c65-6e868210bfac",
   "metadata": {},
   "outputs": [
    {
     "name": "stdout",
     "output_type": "stream",
     "text": [
      "Called A\n",
      "Called C\n"
     ]
    },
    {
     "data": {
      "text/plain": [
       "{'foo': 'bc'}"
      ]
     },
     "execution_count": 5,
     "metadata": {},
     "output_type": "execute_result"
    }
   ],
   "source": [
    "graph.invoke({\"foo\": \"\"})"
   ]
  },
  {
   "cell_type": "markdown",
   "id": "68986cc4-97ec-43a1-b95d-5273d7ffc25a",
   "metadata": {},
   "source": [
    "## Navigating to a node in a parent graph"
   ]
  },
  {
   "cell_type": "markdown",
   "id": "02ccddf2-978c-41bf-b2eb-2d0c4b3f5d81",
   "metadata": {},
   "source": [
    "Now let's demonstrate how you can navigate from inside a subgraph to a different node in a parent graph. We'll do so by changing `node_a` in the above example into a single-node graph that we'll add as a subgraph to our parent graph."
   ]
  },
  {
   "cell_type": "markdown",
   "id": "6be0aeb9-e138-4adc-a1df-5d743a8eb348",
   "metadata": {},
   "source": [
    "!!! important \"State updates with `Command.PARENT`\"\n",
    "\n",
    "    When you send updates from a subgraph node to a parent graph node for a key that's shared by both parent and subgraph [state schemas](../../concepts/low_level#schema), you **must** define a [reducer](../../concepts/low_level#reducers) for the key you're updating in the parent graph state."
   ]
  },
  {
   "cell_type": "code",
   "execution_count": 6,
   "id": "91351541-67af-4c73-9437-426599dcf81e",
   "metadata": {},
   "outputs": [],
   "source": [
    "import operator\n",
    "from typing_extensions import Annotated\n",
    "\n",
    "\n",
    "class State(TypedDict):\n",
    "    # NOTE: we define a reducer here\n",
    "    # highlight-next-line\n",
    "    foo: Annotated[str, operator.add]\n",
    "\n",
    "\n",
    "def node_a(state: State):\n",
    "    print(\"Called A\")\n",
    "    value = random.choice([\"a\", \"b\"])\n",
    "    # this is a replacement for a conditional edge function\n",
    "    if value == \"a\":\n",
    "        goto = \"node_b\"\n",
    "    else:\n",
    "        goto = \"node_c\"\n",
    "\n",
    "    # note how Command allows you to BOTH update the graph state AND route to the next node\n",
    "    return Command(\n",
    "        update={\"foo\": value},\n",
    "        goto=goto,\n",
    "        # this tells LangGraph to navigate to node_b or node_c in the parent graph\n",
    "        # NOTE: this will navigate to the closest parent graph relative to the subgraph\n",
    "        # highlight-next-line\n",
    "        graph=Command.PARENT,\n",
    "    )\n",
    "\n",
    "\n",
    "subgraph = StateGraph(State).add_node(node_a).add_edge(START, \"node_a\").compile()\n",
    "\n",
    "\n",
    "def node_b(state: State):\n",
    "    print(\"Called B\")\n",
    "    # NOTE: since we've defined a reducer, we don't need to manually append\n",
    "    # new characters to existing 'foo' value. instead, reducer will append these\n",
    "    # automatically (via operator.add)\n",
    "    # highlight-next-line\n",
    "    return {\"foo\": \"b\"}\n",
    "\n",
    "\n",
    "def node_c(state: State):\n",
    "    print(\"Called C\")\n",
    "    # highlight-next-line\n",
    "    return {\"foo\": \"c\"}"
   ]
  },
  {
   "cell_type": "code",
   "execution_count": 7,
   "id": "beb61d02-c868-4c2b-b83f-1dfd280f1c8e",
   "metadata": {},
   "outputs": [],
   "source": [
    "builder = StateGraph(State)\n",
    "builder.add_edge(START, \"subgraph\")\n",
    "builder.add_node(\"subgraph\", subgraph)\n",
    "builder.add_node(node_b)\n",
    "builder.add_node(node_c)\n",
    "\n",
    "graph = builder.compile()"
   ]
  },
  {
   "cell_type": "code",
   "execution_count": 8,
   "id": "3f07b704-1fe2-48a3-ad40-c9bc7698cb1c",
   "metadata": {},
   "outputs": [
    {
     "name": "stdout",
     "output_type": "stream",
     "text": [
      "Called A\n",
      "Called C\n"
     ]
    },
    {
     "data": {
      "text/plain": [
       "{'foo': 'bc'}"
      ]
     },
     "execution_count": 8,
     "metadata": {},
     "output_type": "execute_result"
    }
   ],
   "source": [
    "graph.invoke({\"foo\": \"\"})"
   ]
  }
 ],
 "metadata": {
  "kernelspec": {
   "display_name": "Python 3 (ipykernel)",
   "language": "python",
   "name": "python3"
  },
  "language_info": {
   "codemirror_mode": {
    "name": "ipython",
    "version": 3
   },
   "file_extension": ".py",
   "mimetype": "text/x-python",
   "name": "python",
   "nbconvert_exporter": "python",
   "pygments_lexer": "ipython3",
   "version": "3.12.3"
  }
 },
 "nbformat": 4,
 "nbformat_minor": 5
}
