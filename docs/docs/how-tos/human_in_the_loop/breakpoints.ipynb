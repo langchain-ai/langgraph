{
 "cells": [
  {
   "attachments": {},
   "cell_type": "markdown",
   "id": "ed746260-7027-4399-bbab-a0cdb1e53ec2",
   "metadata": {},
   "source": [
    "# Use breakpoints\n",
    "\n",
    "## Requirements\n",
    "\n",
    "To use breakpoints, you will need to:\n",
    "\n",
    "1. [**Specify a checkpointer**](../../../concepts/persistence#checkpoints) to save the graph state after each step.\n",
    "2. [**Set breakpoints**](#setting-breakpoints) to specify where execution should pause.\n",
    "3. **Run the graph** with a [**thread ID**](../../../concepts/persistence#threads) to pause execution at the breakpoint.\n",
    "4. **Resume execution** using `invoke`/`ainvoke`/`stream`/`astream` passing a `None` as the argument for the inputs.\n",
    "\n",
    "## Setting breakpoints\n",
    "\n",
    "There are two places where you can set breakpoints:\n",
    "\n",
    "1. **Before** or **after** a node executes by setting breakpoints at **compile time** or **run time**. We call these [**static breakpoints**](#static-breakpoints).\n",
    "2. **Inside** a node using the `NodeInterrupt` exception. We call these [**dynamic breakpoints**](#dynamic-breakpoints).\n",
    "\n",
    "## Static breakpoints\n",
    "\n",
    "Static breakpoints are triggered either **before** or **after** a node executes. You can set static breakpoints by specifying `interrupt_before` and `interrupt_after` at **\"compile\" time** or **run time**.\n",
    "\n",
    "Static breakpoints can be especially useful for debugging if you want to step through the graph execution one\n",
    "node at a time or if you want to pause the graph execution at specific nodes.\n",
    "\n",
    "=== \"Compile time\"\n",
    "\n",
    "    ```python\n",
    "    # highlight-next-line\n",
    "    graph = graph_builder.compile( # (1)!\n",
    "        # highlight-next-line\n",
    "        interrupt_before=[\"node_a\"], # (2)!\n",
    "        # highlight-next-line\n",
    "        interrupt_after=[\"node_b\", \"node_c\"], # (3)!\n",
    "        checkpointer=checkpointer, # (4)!\n",
    "    )\n",
    "\n",
    "    config = {\n",
    "        \"configurable\": {\n",
    "            \"thread_id\": \"some_thread\"\n",
    "        }\n",
    "    }\n",
    "\n",
    "    # Run the graph until the breakpoint\n",
    "    graph.invoke(inputs, config=thread_config) # (5)!\n",
    "\n",
    "    # Resume the graph\n",
    "    graph.invoke(None, config=thread_config) # (6)!\n",
    "    ```\n",
    "\n",
    "    1. The breakpoints are set during `compile` time.\n",
    "    2. `interrupt_before` specifies the nodes where execution should pause before the node is executed.\n",
    "    3. `interrupt_after` specifies the nodes where execution should pause after the node is executed.\n",
    "    4. A checkpointer is required to enable breakpoints.\n",
    "    5. The graph is run until the first breakpoint is hit.\n",
    "    6. The graph is resumed by passing in `None` for the input. This will run the graph until the next breakpoint is hit.\n",
    "\n",
    "=== \"Run time\"\n",
    "\n",
    "    ```python\n",
    "    # highlight-next-line\n",
    "    graph.invoke( # (1)!\n",
    "        inputs, \n",
    "        # highlight-next-line\n",
    "        interrupt_before=[\"node_a\"], # (2)!\n",
    "        # highlight-next-line\n",
    "        interrupt_after=[\"node_b\", \"node_c\"] # (3)!\n",
    "        config={\n",
    "            \"configurable\": {\"thread_id\": \"some_thread\"}\n",
    "        }, \n",
    "    )\n",
    "\n",
    "    config = {\n",
    "        \"configurable\": {\n",
    "            \"thread_id\": \"some_thread\"\n",
    "        }\n",
    "    }\n",
    "\n",
    "    # Run the graph until the breakpoint\n",
    "    graph.invoke(inputs, config=config) # (4)!\n",
    "\n",
    "    # Resume the graph\n",
    "    graph.invoke(None, config=config) # (5)!\n",
    "    ```\n",
    "\n",
    "    1. `graph.invoke` is called with the `interrupt_before` and `interrupt_after` parameters. This is a run-time configuration and can be changed for every invocation.\n",
    "    2. `interrupt_before` specifies the nodes where execution should pause before the node is executed.\n",
    "    3. `interrupt_after` specifies the nodes where execution should pause after the node is executed.\n",
    "    4. The graph is run until the first breakpoint is hit.\n",
    "    5. The graph is resumed by passing in `None` for the input. This will run the graph until the next breakpoint is hit.\n",
    "\n",
    "    !!! note\n",
    "\n",
    "        You cannot set static breakpoints at runtime for **sub-graphs**.\n",
    "        If you have a sub-graph, you must set the breakpoints at compilation time.\n",
    "\n",
    "??? example \"Setting static breakpoints\"\n",
    "\n",
    "    ```python\n",
    "    from IPython.display import Image, display\n",
    "    from typing_extensions import TypedDict\n",
    "    \n",
    "    from langgraph.checkpoint.memory import InMemorySaver \n",
    "    from langgraph.graph import StateGraph, START, END\n",
    "    \n",
    "    \n",
    "    class State(TypedDict):\n",
    "        input: str\n",
    "    \n",
    "    \n",
    "    def step_1(state):\n",
    "        print(\"---Step 1---\")\n",
    "        pass\n",
    "    \n",
    "    \n",
    "    def step_2(state):\n",
    "        print(\"---Step 2---\")\n",
    "        pass\n",
    "    \n",
    "    \n",
    "    def step_3(state):\n",
    "        print(\"---Step 3---\")\n",
    "        pass\n",
    "    \n",
    "    \n",
    "    builder = StateGraph(State)\n",
    "    builder.add_node(\"step_1\", step_1)\n",
    "    builder.add_node(\"step_2\", step_2)\n",
    "    builder.add_node(\"step_3\", step_3)\n",
    "    builder.add_edge(START, \"step_1\")\n",
    "    builder.add_edge(\"step_1\", \"step_2\")\n",
    "    builder.add_edge(\"step_2\", \"step_3\")\n",
    "    builder.add_edge(\"step_3\", END)\n",
    "    \n",
    "    # Set up a checkpointer \n",
    "    checkpointer = InMemorySaver() # (1)!\n",
    "    \n",
    "    graph = builder.compile(\n",
    "        checkpointer=checkpointer, # (2)!\n",
    "        interrupt_before=[\"step_3\"] # (3)!\n",
    "    )\n",
    "    \n",
    "    # View\n",
    "    display(Image(graph.get_graph().draw_mermaid_png()))\n",
    "    \n",
    "    \n",
    "    # Input\n",
    "    initial_input = {\"input\": \"hello world\"}\n",
    "    \n",
    "    # Thread\n",
    "    thread = {\"configurable\": {\"thread_id\": \"1\"}}\n",
    "    \n",
    "    # Run the graph until the first interruption\n",
    "    for event in graph.stream(initial_input, thread, stream_mode=\"values\"):\n",
    "        print(event)\n",
    "        \n",
    "    # This will run until the breakpoint\n",
    "    # You can get the state of the graph at this point\n",
    "    print(graph.get_state(config))\n",
    "    \n",
    "    # You can continue the graph execution by passing in `None` for the input\n",
    "    for event in graph.stream(None, thread, stream_mode=\"values\"):\n",
    "        print(event)\n",
    "    ```"
   ]
  },
  {
   "attachments": {},
   "cell_type": "markdown",
   "id": "b7d5f6a5-9e59-43e4-a4b6-8ada6dace691",
   "metadata": {},
   "source": [
    "## Dynamic breakpoints\n",
    "\n",
    "Use dynamic breakpoints if you need to interrupt the graph from inside a given node based on a condition.\n",
    "\n",
    "```python\n",
    "from langgraph.errors import NodeInterrupt\n",
    "\n",
    "def step_2(state: State) -> State:\n",
    "    # highlight-next-line\n",
    "    if len(state[\"input\"]) > 5:\n",
    "        # highlight-next-line\n",
    "        raise NodeInterrupt( # (1)!\n",
    "            f\"Received input that is longer than 5 characters: {state['foo']}\"\n",
    "        )\n",
    "    return state\n",
    "```\n",
    "\n",
    "1. raise NodeInterrupt exception based on a some condition. In this example, we create a dynamic breakpoint if the length of the attribute `input` is longer than 5 characters.\n",
    "\n",
    "<details class=\"example\"><summary>Using dynamic breakpoints</summary>"
   ]
  },
  {
   "cell_type": "code",
   "execution_count": 16,
   "id": "9a14c8b2-5c25-4201-93ea-e5358ee99bcb",
   "metadata": {},
   "outputs": [
    {
     "data": {
      "image/png": "[encoded data removed]",
      "text/plain": [
       "<IPython.core.display.Image object>"
      ]
     },
     "metadata": {},
     "output_type": "display_data"
    }
   ],
   "source": [
    "from typing_extensions import TypedDict\n",
    "from IPython.display import Image, display\n",
    "\n",
    "from langgraph.graph import StateGraph, START, END\n",
    "from langgraph.checkpoint.memory import MemorySaver\n",
    "from langgraph.errors import NodeInterrupt\n",
    "\n",
    "\n",
    "class State(TypedDict):\n",
    "    input: str\n",
    "\n",
    "\n",
    "def step_1(state: State) -> State:\n",
    "    print(\"---Step 1---\")\n",
    "    return state\n",
    "\n",
    "\n",
    "def step_2(state: State) -> State:\n",
    "    # Let's optionally raise a NodeInterrupt\n",
    "    # if the length of the input is longer than 5 characters\n",
    "    if len(state[\"input\"]) > 5:\n",
    "        raise NodeInterrupt(\n",
    "            f\"Received input that is longer than 5 characters: {state['input']}\"\n",
    "        )\n",
    "    print(\"---Step 2---\")\n",
    "    return state\n",
    "\n",
    "\n",
    "def step_3(state: State) -> State:\n",
    "    print(\"---Step 3---\")\n",
    "    return state\n",
    "\n",
    "\n",
    "builder = StateGraph(State)\n",
    "builder.add_node(\"step_1\", step_1)\n",
    "builder.add_node(\"step_2\", step_2)\n",
    "builder.add_node(\"step_3\", step_3)\n",
    "builder.add_edge(START, \"step_1\")\n",
    "builder.add_edge(\"step_1\", \"step_2\")\n",
    "builder.add_edge(\"step_2\", \"step_3\")\n",
    "builder.add_edge(\"step_3\", END)\n",
    "\n",
    "# Set up memory\n",
    "memory = MemorySaver()\n",
    "\n",
    "# Compile the graph with memory\n",
    "graph = builder.compile(checkpointer=memory)\n",
    "\n",
    "# View\n",
    "display(Image(graph.get_graph().draw_mermaid_png()))"
   ]
  },
  {
   "attachments": {},
   "cell_type": "markdown",
   "id": "ef321c80-2677-4bb7-86a4-d2bd2439b4fb",
   "metadata": {},
   "source": [
    "First, let's run the graph with an input that <= 5 characters long. This should safely ignore the interrupt condition we defined and return the original input at the end of the graph execution."
   ]
  },
  {
   "cell_type": "code",
   "execution_count": 17,
   "id": "b2d281f1-3349-4378-8918-7665fa7a7457",
   "metadata": {},
   "outputs": [
    {
     "name": "stdout",
     "output_type": "stream",
     "text": [
      "{'input': 'hello'}\n",
      "---Step 1---\n",
      "{'input': 'hello'}\n",
      "---Step 2---\n",
      "{'input': 'hello'}\n",
      "---Step 3---\n",
      "{'input': 'hello'}\n"
     ]
    }
   ],
   "source": [
    "initial_input = {\"input\": \"hello\"}\n",
    "thread_config = {\"configurable\": {\"thread_id\": \"1\"}}\n",
    "\n",
    "for event in graph.stream(initial_input, thread_config, stream_mode=\"values\"):\n",
    "    print(event)"
   ]
  },
  {
   "cell_type": "markdown",
   "id": "2b66b926-47eb-401b-b37b-d80269d7214c",
   "metadata": {},
   "source": [
    "If we inspect the graph at this point, we can see that there are no more tasks left to run and that the graph indeed finished execution."
   ]
  },
  {
   "cell_type": "code",
   "execution_count": 18,
   "id": "4eac1455-e7ef-4a32-8c14-0d5789409689",
   "metadata": {},
   "outputs": [
    {
     "name": "stdout",
     "output_type": "stream",
     "text": [
      "()\n",
      "()\n"
     ]
    }
   ],
   "source": [
    "state = graph.get_state(thread_config)\n",
    "print(state.next)\n",
    "print(state.tasks)"
   ]
  },
  {
   "attachments": {},
   "cell_type": "markdown",
   "id": "f8e03817-2135-4fb3-b881-fd6d2c378ccf",
   "metadata": {},
   "source": [
    "Now, let's run the graph with an input that's longer than 5 characters. This should trigger the dynamic interrupt we defined via raising a `NodeInterrupt` error inside the `step_2` node."
   ]
  },
  {
   "cell_type": "code",
   "execution_count": 19,
   "id": "c06192ad-13a4-4d2e-8e30-f1c08578fe77",
   "metadata": {},
   "outputs": [
    {
     "name": "stdout",
     "output_type": "stream",
     "text": [
      "{'input': 'hello world'}\n",
      "---Step 1---\n",
      "{'input': 'hello world'}\n",
      "{'__interrupt__': (Interrupt(value='Received input that is longer than 5 characters: hello world', resumable=False, ns=None),)}\n"
     ]
    }
   ],
   "source": [
    "initial_input = {\"input\": \"hello world\"}\n",
    "thread_config = {\"configurable\": {\"thread_id\": \"2\"}}\n",
    "\n",
    "# Run the graph until the first interruption\n",
    "for event in graph.stream(initial_input, thread_config, stream_mode=\"values\"):\n",
    "    print(event)"
   ]
  },
  {
   "cell_type": "markdown",
   "id": "173fd4f1-db97-44bb-a9e5-435ed042e3a3",
   "metadata": {},
   "source": [
    "We can see that the graph now stopped while executing `step_2`. If we inspect the graph state at this point, we can see the information on what node is set to execute next (`step_2`), as well as what node raised the interrupt (also `step_2`), and additional information about the interrupt."
   ]
  },
  {
   "cell_type": "code",
   "execution_count": 20,
   "id": "2058593c-178e-4a23-a4c4-860d4a9c2198",
   "metadata": {},
   "outputs": [
    {
     "name": "stdout",
     "output_type": "stream",
     "text": [
      "('step_2',)\n",
      "(PregelTask(id='bfc767e3-a6c4-c5af-dbbf-0d20ea64501e', name='step_2', path=('__pregel_pull', 'step_2'), error=None, interrupts=(Interrupt(value='Received input that is longer than 5 characters: hello world', resumable=False, ns=None),), state=None, result=None),)\n"
     ]
    }
   ],
   "source": [
    "state = graph.get_state(thread_config)\n",
    "print(state.next)\n",
    "print(state.tasks)"
   ]
  },
  {
   "cell_type": "markdown",
   "id": "fc36d1be-ae2e-49c8-a17f-2b27be09618a",
   "metadata": {},
   "source": [
    "If we try to resume the graph from the breakpoint, we will simply interrupt again as our inputs & graph state haven't changed."
   ]
  },
  {
   "cell_type": "code",
   "execution_count": 21,
   "id": "872e7a69-9784-4f81-90c6-6b6af2fa6480",
   "metadata": {},
   "outputs": [
    {
     "name": "stdout",
     "output_type": "stream",
     "text": [
      "{'input': 'hello world'}\n",
      "{'__interrupt__': (Interrupt(value='Received input that is longer than 5 characters: hello world', resumable=False, ns=None),)}\n"
     ]
    }
   ],
   "source": [
    "# NOTE: to resume the graph from a dynamic interrupt we use the same syntax as with regular interrupts -- we pass None as the input\n",
    "for event in graph.stream(None, thread_config, stream_mode=\"values\"):\n",
    "    print(event)"
   ]
  },
  {
   "cell_type": "code",
   "execution_count": 24,
   "id": "3275f899-7039-4029-8814-0bb5c33fabfe",
   "metadata": {},
   "outputs": [
    {
     "name": "stdout",
     "output_type": "stream",
     "text": [
      "('step_2',)\n",
      "(PregelTask(id='bfc767e3-a6c4-c5af-dbbf-0d20ea64501e', name='step_2', path=('__pregel_pull', 'step_2'), error=None, interrupts=(Interrupt(value='Received input that is longer than 5 characters: hello world', resumable=False, ns=None),), state=None, result=None),)\n"
     ]
    }
   ],
   "source": [
    "state = graph.get_state(thread_config)\n",
    "print(state.next)\n",
    "print(state.tasks)"
   ]
  },
  {
   "cell_type": "markdown",
   "id": "f2000f6c-029e-4c0a-8db5-7504dc185d01",
   "metadata": {},
   "source": [
    "</details>"
   ]
  },
  {
   "cell_type": "markdown",
   "id": "4eb3ebb1-cf26-4082-977e-796eadb6f654",
   "metadata": {},
   "source": [
    "## Use with subgraphs\n",
    "\n",
    "To add breakpoints to subgraph either:\n",
    "\n",
    "* Define [static breakpoints](#static-breakpoints) by specifying them when **compiling** the subgraph.\n",
    "* Define [dynamic breakpoints](#dynamic-breakpoints).\n",
    "\n",
    "\n",
    "<details class=\"example\"><summary>Add breakpoints to subgraphs</summary>"
   ]
  },
  {
   "cell_type": "code",
   "execution_count": 21,
   "id": "3c3edfe3-4633-46d2-9723-db7f7be28830",
   "metadata": {},
   "outputs": [
    {
     "name": "stdout",
     "output_type": "stream",
     "text": [
      "StateSnapshot(values={'foo': ''}, next=('subgraph_node_1',), config={'configurable': {'thread_id': '1', 'checkpoint_ns': 'node_1:dfc321bb-7c91-ccfe-23b8-c2374ae3f1cc', 'checkpoint_id': '1f02a8d1-985a-6e2c-8000-77034088c0ce', 'checkpoint_map': {'': '1f02a8d1-9856-6264-8000-ed1534455427', 'node_1:dfc321bb-7c91-ccfe-23b8-c2374ae3f1cc': '1f02a8d1-985a-6e2c-8000-77034088c0ce'}}}, metadata={'source': 'loop', 'writes': None, 'step': 0, 'parents': {'': '1f02a8d1-9856-6264-8000-ed1534455427'}, 'thread_id': '1', 'langgraph_step': 1, 'langgraph_node': 'node_1', 'langgraph_triggers': ['branch:to:node_1'], 'langgraph_path': ['__pregel_pull', 'node_1'], 'langgraph_checkpoint_ns': 'node_1:dfc321bb-7c91-ccfe-23b8-c2374ae3f1cc'}, created_at='2025-05-06T15:16:35.543192+00:00', parent_config={'configurable': {'thread_id': '1', 'checkpoint_ns': 'node_1:dfc321bb-7c91-ccfe-23b8-c2374ae3f1cc', 'checkpoint_id': '1f02a8d1-9859-6d41-bfff-872b2e8f4db6', 'checkpoint_map': {'': '1f02a8d1-9856-6264-8000-ed1534455427', 'node_1:dfc321bb-7c91-ccfe-23b8-c2374ae3f1cc': '1f02a8d1-9859-6d41-bfff-872b2e8f4db6'}}}, tasks=(PregelTask(id='33218e09-8747-5161-12b1-5dc705d30b51', name='subgraph_node_1', path=('__pregel_pull', 'subgraph_node_1'), error=None, interrupts=(), state=None, result=None),), interrupts=())\n"
     ]
    },
    {
     "data": {
      "text/plain": [
       "{'foo': ''}"
      ]
     },
     "execution_count": 21,
     "metadata": {},
     "output_type": "execute_result"
    }
   ],
   "source": [
    "from typing_extensions import TypedDict\n",
    "\n",
    "from langgraph.graph import START, StateGraph\n",
    "from langgraph.checkpoint.memory import InMemorySaver\n",
    "from langgraph.types import interrupt\n",
    "\n",
    "\n",
    "class State(TypedDict):\n",
    "    foo: str\n",
    "\n",
    "\n",
    "def subgraph_node_1(state: State):\n",
    "    return {\"foo\": state[\"foo\"]}\n",
    "\n",
    "\n",
    "subgraph_builder = StateGraph(State)\n",
    "subgraph_builder.add_node(subgraph_node_1)\n",
    "subgraph_builder.add_edge(START, \"subgraph_node_1\")\n",
    "\n",
    "subgraph = subgraph_builder.compile(interrupt_before=[\"subgraph_node_1\"])\n",
    "\n",
    "builder = StateGraph(State)\n",
    "builder.add_node(\"node_1\", subgraph)  # directly include subgraph as a node\n",
    "builder.add_edge(START, \"node_1\")\n",
    "\n",
    "checkpointer = InMemorySaver()\n",
    "graph = builder.compile(checkpointer=checkpointer)\n",
    "\n",
    "config = {\"configurable\": {\"thread_id\": \"1\"}}\n",
    "\n",
    "graph.invoke({\"foo\": \"\"}, config)\n",
    "\n",
    "# Fetch state including subgraph state.\n",
    "print(graph.get_state(config, subgraphs=True).tasks[0].state)\n",
    "\n",
    "# resume the subgraph\n",
    "graph.invoke(None, config)"
   ]
  },
  {
   "cell_type": "markdown",
   "id": "e509da54-8805-4a54-a07c-1b7805fa6b95",
   "metadata": {},
   "source": [
    "</details>"
   ]
  }
 ],
 "metadata": {
  "kernelspec": {
   "display_name": "Python 3 (ipykernel)",
   "language": "python",
   "name": "python3"
  },
  "language_info": {
   "codemirror_mode": {
    "name": "ipython",
    "version": 3
   },
   "file_extension": ".py",
   "mimetype": "text/x-python",
   "name": "python",
   "nbconvert_exporter": "python",
   "pygments_lexer": "ipython3",
   "version": "3.11.4"
  }
 },
 "nbformat": 4,
 "nbformat_minor": 5
}
