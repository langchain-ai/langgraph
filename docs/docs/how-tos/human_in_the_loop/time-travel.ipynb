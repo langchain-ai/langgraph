{
 "cells": [
  {
   "attachments": {},
   "cell_type": "markdown",
   "id": "c23e0a59-759a-4226-997e-8a69f7661d32",
   "metadata": {},
   "source": [
    "# Use time-travel\n",
    "\n",
    "To use time-travel in LangGraph:\n",
    "\n",
    "1. **Identify a checkpoint in an existing thread**: Use the [`get_state_history()`][langgraph.graph.graph.CompiledGraph.get_state_history] method to retrieve the execution history for a specific `thread_id` and locate the desired `checkpoint_id`.  \n",
    "   Alternatively, set a [breakpoint](../../../concepts/breakpoints/) before the node(s) where you want execution to pause. You can then find the most recent checkpoint recorded up to that breakpoint.\n",
    "2. **(Optional) modify the graph state**: Use the [`update_state`][langgraph.graph.graph.CompiledGraph.update_state] method to modify the graph’s state at the checkpoint and resume execution from alternative state.\n",
    "3. **Resume execution from the checkpoint**: Use the `invoke` or `stream` APIs with an input of `None` and a configuration containing the appropriate `thread_id` and `checkpoint_id`.\n",
    "\n",
    "## Example\n",
    "\n",
    "This example builds a simple LangGraph workflow that generates a joke topic and writes a joke using an LLM. It demonstrates how to run the graph, retrieve past execution checkpoints, optionally modify the state, and resume execution from a chosen checkpoint to explore alternate outcomes.\n",
    "\n",
    "### Setup\n",
    "\n",
    "First we need to install the packages required"
   ]
  },
  {
   "cell_type": "code",
   "execution_count": 38,
   "id": "af4ce0ba-7596-4e5f-8bf8-0b0bd6e62833",
   "metadata": {},
   "outputs": [],
   "source": [
    "%%capture --no-stderr\n",
    "%pip install --quiet -U langgraph langchain_anthropic"
   ]
  },
  {
   "cell_type": "markdown",
   "id": "0abe11f4-62ed-4dc4-8875-3db21e260d1d",
   "metadata": {},
   "source": [
    "Next, we need to set API keys for Anthropic (the LLM we will use)"
   ]
  },
  {
   "cell_type": "code",
   "execution_count": 1,
   "id": "c903a1cf-2977-4e2d-ad7d-8b3946821d89",
   "metadata": {},
   "outputs": [],
   "source": [
    "import getpass\n",
    "import os\n",
    "\n",
    "\n",
    "def _set_env(var: str):\n",
    "    if not os.environ.get(var):\n",
    "        os.environ[var] = getpass.getpass(f\"{var}: \")\n",
    "\n",
    "\n",
    "_set_env(\"ANTHROPIC_API_KEY\")"
   ]
  },
  {
   "cell_type": "markdown",
   "id": "f0ed46a8-effe-4596-b0e1-a6a29ee16f5c",
   "metadata": {},
   "source": [
    "<div class=\"admonition tip\">\n",
    "    <p class=\"admonition-title\">Set up <a href=\"https://smith.langchain.com\">LangSmith</a> for LangGraph development</p>\n",
    "    <p style=\"padding-top: 5px;\">\n",
    "        Sign up for LangSmith to quickly spot issues and improve the performance of your LangGraph projects. LangSmith lets you use trace data to debug, test, and monitor your LLM apps built with LangGraph — read more about how to get started <a href=\"https://docs.smith.langchain.com\">here</a>. \n",
    "    </p>\n",
    "</div>"
   ]
  },
  {
   "cell_type": "code",
   "execution_count": 2,
   "id": "4e1e9b07-4185-4d6c-8834-a0ae07dfdf4b",
   "metadata": {},
   "outputs": [
    {
     "data": {
      "image/png": "[encoded data removed]",
      "text/plain": [
       "<langgraph.graph.state.CompiledStateGraph object at 0x7694f1dd7ed0>"
      ]
     },
     "execution_count": 2,
     "metadata": {},
     "output_type": "execute_result"
    }
   ],
   "source": [
    "import uuid\n",
    "\n",
    "from typing_extensions import TypedDict, NotRequired\n",
    "from langgraph.graph import StateGraph, START, END\n",
    "from langchain.chat_models import init_chat_model\n",
    "from langgraph.checkpoint.memory import InMemorySaver\n",
    "\n",
    "\n",
    "class State(TypedDict):\n",
    "    topic: NotRequired[str]\n",
    "    joke: NotRequired[str]\n",
    "\n",
    "\n",
    "llm = init_chat_model(\n",
    "    \"anthropic:claude-3-7-sonnet-latest\",\n",
    "    temperature=0,\n",
    ")\n",
    "\n",
    "\n",
    "def generate_topic(state: State):\n",
    "    \"\"\"LLM call to generate a topic for the joke\"\"\"\n",
    "    msg = llm.invoke(\"Give me a funny topic for a joke\")\n",
    "    return {\"topic\": msg.content}\n",
    "\n",
    "\n",
    "def write_joke(state: State):\n",
    "    \"\"\"LLM call to write a joke based on the topic\"\"\"\n",
    "    msg = llm.invoke(f\"Write a short joke about {state['topic']}\")\n",
    "    return {\"joke\": msg.content}\n",
    "\n",
    "\n",
    "# Build workflow\n",
    "workflow = StateGraph(State)\n",
    "\n",
    "# Add nodes\n",
    "workflow.add_node(\"generate_topic\", generate_topic)\n",
    "workflow.add_node(\"write_joke\", write_joke)\n",
    "\n",
    "# Add edges to connect nodes\n",
    "workflow.add_edge(START, \"generate_topic\")\n",
    "workflow.add_edge(\"generate_topic\", \"write_joke\")\n",
    "workflow.add_edge(\"write_joke\", END)\n",
    "\n",
    "# Compile\n",
    "checkpointer = InMemorySaver()\n",
    "graph = workflow.compile(checkpointer=checkpointer)\n",
    "graph"
   ]
  },
  {
   "cell_type": "markdown",
   "id": "7ef76675-02e4-42ef-b707-0a9ce36ba0ac",
   "metadata": {},
   "source": [
    "### Run the graph"
   ]
  },
  {
   "cell_type": "code",
   "execution_count": 3,
   "id": "3199a8d0-17c0-4979-ac08-52d7007b7689",
   "metadata": {},
   "outputs": [
    {
     "name": "stdout",
     "output_type": "stream",
     "text": [
      "How about \"The Secret Life of Socks in the Dryer\"? You know, exploring the mysterious phenomenon of how socks go into the laundry as pairs but come out as singles. Where do they go? Are they starting new lives elsewhere? Is there a sock paradise we don't know about? There's a lot of comedic potential in the everyday mystery that unites us all!\n",
      "\n",
      "# The Secret Life of Socks in the Dryer\n",
      "\n",
      "I finally discovered where all my missing socks go after the dryer. Turns out they're not missing at all—they've just eloped with someone else's socks from the laundromat to start new lives together.\n",
      "\n",
      "My blue argyle is now living in Bermuda with a red polka dot, posting vacation photos on Sockstagram and sending me lint as alimony.\n"
     ]
    }
   ],
   "source": [
    "config = {\n",
    "    \"configurable\": {\n",
    "        \"thread_id\": uuid.uuid4(),\n",
    "    }\n",
    "}\n",
    "state = graph.invoke({}, config)\n",
    "\n",
    "print(state[\"topic\"])\n",
    "print()\n",
    "print(state[\"joke\"])"
   ]
  },
  {
   "cell_type": "markdown",
   "id": "2fc0fc7f-5a7b-4b48-b1e2-d413ad4a51aa",
   "metadata": {},
   "source": [
    "### 1. Identify a checkpoint"
   ]
  },
  {
   "cell_type": "code",
   "execution_count": 4,
   "id": "e7f54f90-bff1-4810-8488-c8fce6b5a03f",
   "metadata": {},
   "outputs": [
    {
     "name": "stdout",
     "output_type": "stream",
     "text": [
      "()\n",
      "1f02ac4a-ec9f-6524-8002-8f7b0bbeed0e\n",
      "\n",
      "('write_joke',)\n",
      "1f02ac4a-ce2a-6494-8001-cb2e2d651227\n",
      "\n",
      "('generate_topic',)\n",
      "1f02ac4a-a4e0-630d-8000-b73c254ba748\n",
      "\n",
      "('__start__',)\n",
      "1f02ac4a-a4dd-665e-bfff-e6c8c44315d9\n",
      "\n"
     ]
    }
   ],
   "source": [
    "# The states are returned in reverse chronological order.\n",
    "states = list(graph.get_state_history(config))\n",
    "\n",
    "for state in states:\n",
    "    print(state.next)\n",
    "    print(state.config[\"configurable\"][\"checkpoint_id\"])\n",
    "    print()"
   ]
  },
  {
   "cell_type": "code",
   "execution_count": 5,
   "id": "2f5d918d-0c1b-42b8-9d26-15b58aaaf058",
   "metadata": {},
   "outputs": [
    {
     "name": "stdout",
     "output_type": "stream",
     "text": [
      "('write_joke',)\n",
      "{'topic': 'How about \"The Secret Life of Socks in the Dryer\"? You know, exploring the mysterious phenomenon of how socks go into the laundry as pairs but come out as singles. Where do they go? Are they starting new lives elsewhere? Is there a sock paradise we don\\'t know about? There\\'s a lot of comedic potential in the everyday mystery that unites us all!'}\n"
     ]
    }
   ],
   "source": [
    "# This is the state before last (states are listed in chronological order)\n",
    "selected_state = states[1]\n",
    "print(selected_state.next)\n",
    "print(selected_state.values)"
   ]
  },
  {
   "cell_type": "markdown",
   "id": "59d5ecb8-1291-4131-83b6-c666862a09fc",
   "metadata": {},
   "source": [
    "### 2. (Optional) update the state\n",
    "\n",
    "`update_state` will create a new checkpoint. The new checkpoint will be associated with the same thread, but a new checkpoint ID."
   ]
  },
  {
   "cell_type": "code",
   "execution_count": 6,
   "id": "5ad78ce6-9a7f-4110-9e4a-8105f21cb90d",
   "metadata": {},
   "outputs": [
    {
     "name": "stdout",
     "output_type": "stream",
     "text": [
      "{'configurable': {'thread_id': 'c62e2e03-c27b-4cb6-8cea-ea9bfedae006', 'checkpoint_ns': '', 'checkpoint_id': '1f02ac4a-ecee-600b-8002-a1d21df32e4c'}}\n"
     ]
    }
   ],
   "source": [
    "new_config = graph.update_state(selected_state.config, values={\"topic\": \"chickens\"})\n",
    "print(new_config)"
   ]
  },
  {
   "cell_type": "markdown",
   "id": "db25cd11-7907-4c6f-9c97-b6b3458f246c",
   "metadata": {},
   "source": [
    "### 3. Resume execution from the checkpoint"
   ]
  },
  {
   "cell_type": "code",
   "execution_count": 7,
   "id": "f0bab935-6d9b-4cfd-afe8-bfcf4638847e",
   "metadata": {},
   "outputs": [
    {
     "data": {
      "text/plain": [
       "{'topic': 'chickens',\n",
       " 'joke': 'Why did the chicken join a band?\\n\\nBecause it had excellent drumsticks!'}"
      ]
     },
     "execution_count": 7,
     "metadata": {},
     "output_type": "execute_result"
    }
   ],
   "source": [
    "graph.invoke(None, new_config)"
   ]
  }
 ],
 "metadata": {
  "kernelspec": {
   "display_name": "Python 3 (ipykernel)",
   "language": "python",
   "name": "python3"
  },
  "language_info": {
   "codemirror_mode": {
    "name": "ipython",
    "version": 3
   },
   "file_extension": ".py",
   "mimetype": "text/x-python",
   "name": "python",
   "nbconvert_exporter": "python",
   "pygments_lexer": "ipython3",
   "version": "3.11.4"
  }
 },
 "nbformat": 4,
 "nbformat_minor": 5
}
