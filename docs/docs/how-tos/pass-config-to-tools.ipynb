{
 "cells": [
  {
   "cell_type": "markdown",
   "metadata": {},
   "source": [
    "# How to pass config to tools"
   ]
  },
  {
   "cell_type": "markdown",
   "metadata": {},
   "source": [
    "<div class=\"admonition tip\">\n",
    "    <p class=\"admonition-title\">Prerequisites</p>\n",
    "    <p>\n",
    "        This guide assumes familiarity with the following:\n",
    "        <ul>\n",
    "            <li>\n",
    "                <a href=\"https://python.langchain.com/docs/concepts/#runnable-interface\">\n",
    "                    Runnable Interface\n",
    "                </a>\n",
    "            </li>\n",
    "            <li>\n",
    "                <a href=\" https://langchain-ai.github.io/langgraph/concepts/agentic_concepts/#tool-calling-agent\">\n",
    "                    Tool calling agent\n",
    "                </a>\n",
    "            </li>      \n",
    "            <li>\n",
    "                <a href=\"https://python.langchain.com/docs/concepts/#tools\">\n",
    "                    Tools\n",
    "                </a>\n",
    "            </li>\n",
    "            <li>\n",
    "                <a href=\"https://langchain-ai.github.io/langgraph/concepts/streaming/\">\n",
    "                    Streaming\n",
    "                </a>\n",
    "            </li>            \n",
    "            <li>\n",
    "                <a href=\"https://python.langchain.com/docs/concepts/#chat-models/\">\n",
    "                    Chat Models\n",
    "                </a>\n",
    "            </li>\n",
    "        </ul>\n",
    "    </p>\n",
    "</div> \n",
    "\n",
    "\n",
    "\n",
    "At runtime, you may need to pass values to a tool, like a user ID, which should be set by the application logic, not controlled by the LLM, for security reasons. The LLM should only manage its intended parameters.\n",
    "\n",
    "LangChain tools use the `Runnable` interface, where methods like `invoke` accept runtime information through the config argument with a `RunnableConfig` type annotation.\n",
    "\n",
    "In the following example, we’ll set up an agent with tools to manage a user's favorite pets—adding, reading, and deleting entries—while fixing the user ID through application logic and letting the chat model control other parameters"
   ]
  },
  {
   "cell_type": "markdown",
   "metadata": {},
   "source": [
    "## Setup\n",
    "\n",
    "First, let's install the required packages and set our API keys"
   ]
  },
  {
   "cell_type": "code",
   "execution_count": 1,
   "metadata": {},
   "outputs": [],
   "source": [
    "%%capture --no-stderr\n",
    "%pip install --quiet -U langgraph langchain_anthropic"
   ]
  },
  {
   "cell_type": "code",
   "execution_count": null,
   "metadata": {},
   "outputs": [],
   "source": [
    "import getpass\n",
    "import os\n",
    "\n",
    "\n",
    "def _set_env(var: str):\n",
    "    if not os.environ.get(var):\n",
    "        os.environ[var] = getpass.getpass(f\"{var}: \")\n",
    "\n",
    "\n",
    "_set_env(\"ANTHROPIC_API_KEY\")"
   ]
  },
  {
   "cell_type": "markdown",
   "metadata": {},
   "source": [
    "<div class=\"admonition tip\">\n",
    "    <p class=\"admonition-title\">Set up <a href=\"https://smith.langchain.com\">LangSmith</a> for LangGraph development</p>\n",
    "    <p style=\"padding-top: 5px;\">\n",
    "        Sign up for LangSmith to quickly spot issues and improve the performance of your LangGraph projects. LangSmith lets you use trace data to debug, test, and monitor your LLM apps built with LangGraph — read more about how to get started <a href=\"https://docs.smith.langchain.com\">here</a>. \n",
    "    </p>\n",
    "</div>"
   ]
  },
  {
   "cell_type": "markdown",
   "metadata": {},
   "source": [
    "## Define tools and model"
   ]
  },
  {
   "cell_type": "markdown",
   "metadata": {},
   "source": [
    "!!! warning \"Config type annotations\"\n",
    "\n",
    "    Each tool function can take a `config` argument. In order for the config to be correctly propagated to the function, you MUST always add a `RunnableConfig` type annotation for your `config` argument. For example:\n",
    "\n",
    "    ```python\n",
    "    def my_tool(tool_arg: str, config: RunnableConfig):\n",
    "        ...\n",
    "    ```"
   ]
  },
  {
   "cell_type": "code",
   "execution_count": 3,
   "metadata": {},
   "outputs": [],
   "source": [
    "from typing import List\n",
    "\n",
    "from langchain_core.tools import tool\n",
    "from langchain_core.runnables.config import RunnableConfig\n",
    "\n",
    "from langgraph.prebuilt import ToolNode\n",
    "\n",
    "user_to_pets = {}\n",
    "\n",
    "\n",
    "@tool(parse_docstring=True)\n",
    "def update_favorite_pets(\n",
    "    # NOTE: config arg does not need to be added to docstring, as we don't want it to be included in the function signature attached to the LLM\n",
    "    pets: List[str],\n",
    "    config: RunnableConfig,\n",
    ") -> None:\n",
    "    \"\"\"Add the list of favorite pets.\n",
    "\n",
    "    Args:\n",
    "        pets: List of favorite pets to set.\n",
    "    \"\"\"\n",
    "    user_id = config.get(\"configurable\", {}).get(\"user_id\")\n",
    "    user_to_pets[user_id] = pets\n",
    "\n",
    "\n",
    "@tool\n",
    "def delete_favorite_pets(config: RunnableConfig) -> None:\n",
    "    \"\"\"Delete the list of favorite pets.\"\"\"\n",
    "    user_id = config.get(\"configurable\", {}).get(\"user_id\")\n",
    "    if user_id in user_to_pets:\n",
    "        del user_to_pets[user_id]\n",
    "\n",
    "\n",
    "@tool\n",
    "def list_favorite_pets(config: RunnableConfig) -> None:\n",
    "    \"\"\"List favorite pets if asked to.\"\"\"\n",
    "    user_id = config.get(\"configurable\", {}).get(\"user_id\")\n",
    "    return \", \".join(user_to_pets.get(user_id, []))\n",
    "\n",
    "\n",
    "tools = [update_favorite_pets, delete_favorite_pets, list_favorite_pets]"
   ]
  },
  {
   "cell_type": "markdown",
   "metadata": {},
   "source": [
    "We'll be using a small chat model from Anthropic in our example."
   ]
  },
  {
   "cell_type": "code",
   "execution_count": 4,
   "metadata": {},
   "outputs": [],
   "source": [
    "from langchain_anthropic import ChatAnthropic\n",
    "from langgraph.graph import StateGraph, MessagesState\n",
    "from langgraph.prebuilt import ToolNode\n",
    "\n",
    "\n",
    "model = ChatAnthropic(model=\"claude-3-5-haiku-latest\")"
   ]
  },
  {
   "attachments": {},
   "cell_type": "markdown",
   "metadata": {},
   "source": [
    "## ReAct Agent\n",
    "\n",
    "Let's set up a graph implementation of the [ReAct agent](https://langchain-ai.github.io/langgraph/concepts/agentic_concepts/#react-agent). This agent takes some query as input, then repeatedly call tools until it has enough information to resolve the query. We'll be using prebuilt [`create_react_agent`][langgraph.prebuilt.chat_agent_executor.create_react_agent] and the Anthropic model with tools we just defined. Note: the tools are automatically added to the model via `model.bind_tools` inside the `create_react_agent` implementation."
   ]
  },
  {
   "cell_type": "code",
   "execution_count": 5,
   "metadata": {},
   "outputs": [
    {
     "data": {
      "image/png": "[encoded data removed]",
      "text/plain": [
       "<IPython.core.display.Image object>"
      ]
     },
     "metadata": {},
     "output_type": "display_data"
    }
   ],
   "source": [
    "from langgraph.prebuilt import create_react_agent\n",
    "from IPython.display import Image, display\n",
    "\n",
    "graph = create_react_agent(model, tools)\n",
    "\n",
    "try:\n",
    "    display(Image(graph.get_graph().draw_mermaid_png()))\n",
    "except Exception:\n",
    "    # This requires some extra dependencies and is optional\n",
    "    pass"
   ]
  },
  {
   "cell_type": "markdown",
   "metadata": {},
   "source": [
    "## Use it!"
   ]
  },
  {
   "cell_type": "code",
   "execution_count": 6,
   "metadata": {},
   "outputs": [
    {
     "name": "stdout",
     "output_type": "stream",
     "text": [
      "User information prior to run: {}\n",
      "================================\u001b[1m Human Message \u001b[0m=================================\n",
      "\n",
      "my favorite pets are cats and dogs\n",
      "==================================\u001b[1m Ai Message \u001b[0m==================================\n",
      "\n",
      "[{'text': \"I'll help you update your favorite pets using the `update_favorite_pets` function.\", 'type': 'text'}, {'id': 'toolu_015jtecJ4jnosAfXEC3KADS2', 'input': {'pets': ['cats', 'dogs']}, 'name': 'update_favorite_pets', 'type': 'tool_use'}]\n",
      "Tool Calls:\n",
      "  update_favorite_pets (toolu_015jtecJ4jnosAfXEC3KADS2)\n",
      " Call ID: toolu_015jtecJ4jnosAfXEC3KADS2\n",
      "  Args:\n",
      "    pets: ['cats', 'dogs']\n",
      "=================================\u001b[1m Tool Message \u001b[0m=================================\n",
      "Name: update_favorite_pets\n",
      "\n",
      "null\n",
      "==================================\u001b[1m Ai Message \u001b[0m==================================\n",
      "\n",
      "Great! I've added cats and dogs to your list of favorite pets. Would you like to confirm the list or do anything else with it?\n",
      "User information after the run: {'123': ['cats', 'dogs']}\n"
     ]
    }
   ],
   "source": [
    "from langchain_core.messages import HumanMessage\n",
    "\n",
    "user_to_pets.clear()  # Clear the state\n",
    "\n",
    "print(f\"User information prior to run: {user_to_pets}\")\n",
    "\n",
    "inputs = {\"messages\": [HumanMessage(content=\"my favorite pets are cats and dogs\")]}\n",
    "for chunk in graph.stream(\n",
    "    inputs, {\"configurable\": {\"user_id\": \"123\"}}, stream_mode=\"values\"\n",
    "):\n",
    "    chunk[\"messages\"][-1].pretty_print()\n",
    "\n",
    "print(f\"User information after the run: {user_to_pets}\")"
   ]
  },
  {
   "cell_type": "code",
   "execution_count": 7,
   "metadata": {},
   "outputs": [
    {
     "name": "stdout",
     "output_type": "stream",
     "text": [
      "User information prior to run: {'123': ['cats', 'dogs']}\n",
      "================================\u001b[1m Human Message \u001b[0m=================================\n",
      "\n",
      "what are my favorite pets\n",
      "==================================\u001b[1m Ai Message \u001b[0m==================================\n",
      "\n",
      "[{'text': \"I'll help you check your favorite pets by using the list_favorite_pets function.\", 'type': 'text'}, {'id': 'toolu_01EMTtX5WtKJXMJ4WqXpxPUw', 'input': {}, 'name': 'list_favorite_pets', 'type': 'tool_use'}]\n",
      "Tool Calls:\n",
      "  list_favorite_pets (toolu_01EMTtX5WtKJXMJ4WqXpxPUw)\n",
      " Call ID: toolu_01EMTtX5WtKJXMJ4WqXpxPUw\n",
      "  Args:\n",
      "=================================\u001b[1m Tool Message \u001b[0m=================================\n",
      "Name: list_favorite_pets\n",
      "\n",
      "cats, dogs\n",
      "==================================\u001b[1m Ai Message \u001b[0m==================================\n",
      "\n",
      "Based on the results, your favorite pets are cats and dogs.\n",
      "\n",
      "Is there anything else you'd like to know about your favorite pets, or would you like to update the list?\n",
      "User information prior to run: {'123': ['cats', 'dogs']}\n"
     ]
    }
   ],
   "source": [
    "from langchain_core.messages import HumanMessage\n",
    "\n",
    "print(f\"User information prior to run: {user_to_pets}\")\n",
    "\n",
    "inputs = {\"messages\": [HumanMessage(content=\"what are my favorite pets\")]}\n",
    "for chunk in graph.stream(\n",
    "    inputs, {\"configurable\": {\"user_id\": \"123\"}}, stream_mode=\"values\"\n",
    "):\n",
    "    chunk[\"messages\"][-1].pretty_print()\n",
    "\n",
    "print(f\"User information prior to run: {user_to_pets}\")"
   ]
  },
  {
   "cell_type": "code",
   "execution_count": 8,
   "metadata": {},
   "outputs": [
    {
     "name": "stdout",
     "output_type": "stream",
     "text": [
      "User information prior to run: {'123': ['cats', 'dogs']}\n",
      "================================\u001b[1m Human Message \u001b[0m=================================\n",
      "\n",
      "please forget what i told you about my favorite animals\n",
      "==================================\u001b[1m Ai Message \u001b[0m==================================\n",
      "\n",
      "[{'text': \"I'll help you delete the list of favorite pets. I'll use the delete_favorite_pets function to remove any previously saved list.\", 'type': 'text'}, {'id': 'toolu_01JqpxgxdsDJFMzSLeogoRtG', 'input': {}, 'name': 'delete_favorite_pets', 'type': 'tool_use'}]\n",
      "Tool Calls:\n",
      "  delete_favorite_pets (toolu_01JqpxgxdsDJFMzSLeogoRtG)\n",
      " Call ID: toolu_01JqpxgxdsDJFMzSLeogoRtG\n",
      "  Args:\n",
      "=================================\u001b[1m Tool Message \u001b[0m=================================\n",
      "Name: delete_favorite_pets\n",
      "\n",
      "null\n",
      "==================================\u001b[1m Ai Message \u001b[0m==================================\n",
      "\n",
      "The list of favorite pets has been deleted. If you'd like to create a new list of favorite pets in the future, just let me know.\n",
      "User information prior to run: {}\n"
     ]
    }
   ],
   "source": [
    "print(f\"User information prior to run: {user_to_pets}\")\n",
    "\n",
    "inputs = {\n",
    "    \"messages\": [\n",
    "        HumanMessage(content=\"please forget what i told you about my favorite animals\")\n",
    "    ]\n",
    "}\n",
    "for chunk in graph.stream(\n",
    "    inputs, {\"configurable\": {\"user_id\": \"123\"}}, stream_mode=\"values\"\n",
    "):\n",
    "    chunk[\"messages\"][-1].pretty_print()\n",
    "\n",
    "print(f\"User information prior to run: {user_to_pets}\")"
   ]
  }
 ],
 "metadata": {
  "kernelspec": {
   "display_name": "Python 3 (ipykernel)",
   "language": "python",
   "name": "python3"
  },
  "language_info": {
   "codemirror_mode": {
    "name": "ipython",
    "version": 3
   },
   "file_extension": ".py",
   "mimetype": "text/x-python",
   "name": "python",
   "nbconvert_exporter": "python",
   "pygments_lexer": "ipython3",
   "version": "3.12.3"
  }
 },
 "nbformat": 4,
 "nbformat_minor": 4
}
