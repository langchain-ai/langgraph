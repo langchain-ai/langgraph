{
 "cells": [
  {
   "cell_type": "markdown",
   "metadata": {},
   "source": [
    "# How to create a sequence of steps\n",
    "\n",
    "!!! info \"Prerequisites\"\n",
    "    This guide assumes familiarity with the following:\n",
    "\n",
    "    - [How to define and update graph state](../../how-tos/state-reducers)\n",
    "\n",
    "This guide demonstrates how to construct a simple sequence of steps. We will demonstrate:\n",
    "\n",
    "1. How to build a sequential graph\n",
    "2. Built-in short-hand for constructing similar graphs.\n",
    "\n",
    "\n",
    "# Summary\n",
    "\n",
    "To add a sequence of nodes, we use the `.add_node` and `.add_edge` methods of our [graph](../../concepts/low_level/#stategraph):\n",
    "```python\n",
    "from langgraph.graph import START, StateGraph\n",
    "\n",
    "graph_builder = StateGraph(State)\n",
    "\n",
    "# Add nodes\n",
    "graph_builder.add_node(step_1)\n",
    "graph_builder.add_node(step_2)\n",
    "graph_builder.add_node(step_3)\n",
    "\n",
    "# Add edges\n",
    "graph_builder.add_edge(START, \"step_1\")\n",
    "graph_builder.add_edge(\"step_1\", \"step_2\")\n",
    "graph_builder.add_edge(\"step_2\", \"step_3\")\n",
    "```\n",
    "\n",
    "We can also use the built-in shorthand `.add_sequence`:\n",
    "```python\n",
    "graph_builder = StateGraph(State).add_sequence([step_1, step_2, step_3])\n",
    "graph_builder.add_edge(START, \"step_1\")\n",
    "```\n",
    "\n",
    "\n",
    "<details>\n",
    "<summary>Why split application steps into a sequence with LangGraph?</summary>\n",
    "\n",
    "LangGraph makes it easy to add an underlying persistence layer to your application.\n",
    "This allows state to be checkpointed in between the execution of nodes, so your LangGraph nodes govern:\n",
    "\n",
    "<ul>\n",
    "<li>How state updates are [checkpointed](../../concepts/persistence/)</li>\n",
    "<li>How interruptions are resumed in [human-in-the-loop](../../concepts/human_in_the_loop/) workflows</li>\n",
    "<li>How we can \"rewind\" and branch-off executions using LangGraph's [time travel](../../concepts/time-travel/) features</li>\n",
    "</ul>\n",
    "\n",
    "They also determine how execution steps are [streamed](../../concepts/streaming/), and how your application is visualized\n",
    "and debugged using [LangGraph Studio](../../concepts/langgraph_studio/).\n",
    "\n",
    "</details>\n",
    "\n",
    "## Setup\n",
    "\n",
    "First, let's install langgraph:"
   ]
  },
  {
   "cell_type": "code",
   "execution_count": 1,
   "metadata": {},
   "outputs": [],
   "source": [
    "%%capture --no-stderr\n",
    "%pip install -U langgraph"
   ]
  },
  {
   "cell_type": "markdown",
   "metadata": {},
   "source": [
    "<div class=\"admonition tip\">\n",
    "     <p class=\"admonition-title\">Set up <a href=\"https://smith.langchain.com\">LangSmith</a> for better debugging</p>\n",
    "     <p style=\"padding-top: 5px;\">\n",
    "         Sign up for LangSmith to quickly spot issues and improve the performance of your LangGraph projects. LangSmith lets you use trace data to debug, test, and monitor your LLM aps built with LangGraph — read more about how to get started in the <a href=\"https://docs.smith.langchain.com\">docs</a>. \n",
    "     </p>\n",
    " </div>"
   ]
  },
  {
   "cell_type": "markdown",
   "metadata": {},
   "source": [
    "## Build the graph\n",
    "\n",
    "Let's demonstrate a simple usage example. We will create a sequence of three steps:\n",
    "\n",
    "1. Populate a value in a key of the state\n",
    "2. Update the same value\n",
    "3. Populate a different value\n",
    "\n",
    "### Define state\n",
    "\n",
    "Let's first define our [state](../../concepts/low_level/#state). This governs the [schema of the graph](../../concepts/low_level/#schema), and can also specify how to apply updates. See [this guide](../../how-tos/state-reducers) for more detail.\n",
    "\n",
    "In our case, we will just keep track of two values:"
   ]
  },
  {
   "cell_type": "code",
   "execution_count": 1,
   "metadata": {},
   "outputs": [],
   "source": [
    "from typing_extensions import TypedDict\n",
    "\n",
    "\n",
    "class State(TypedDict):\n",
    "    value_1: str\n",
    "    value_2: int"
   ]
  },
  {
   "cell_type": "markdown",
   "metadata": {},
   "source": [
    "### Define nodes\n",
    "\n",
    "Our [nodes](../../concepts/low_level/#nodes) are just Python functions that read our graph's state and make updates to it. The first argument to this function will always be the state:"
   ]
  },
  {
   "cell_type": "code",
   "execution_count": 2,
   "metadata": {},
   "outputs": [],
   "source": [
    "def step_1(state: State):\n",
    "    return {\"value_1\": \"a\"}\n",
    "\n",
    "\n",
    "def step_2(state: State):\n",
    "    current_value_1 = state[\"value_1\"]\n",
    "    return {\"value_1\": f\"{current_value_1} b\"}\n",
    "\n",
    "\n",
    "def step_3(state: State):\n",
    "    return {\"value_2\": 10}"
   ]
  },
  {
   "cell_type": "markdown",
   "metadata": {},
   "source": [
    "!!! note\n",
    "\n",
    "    Note that when issuing updates to the state, each node can just specify the value of the key it wishes to update.\n",
    "\n",
    "By default, this will **overwrite** the value of the corresponding key. You can also use [reducers](../../concepts/low_level/#reducers) to control how updates are processed— for example, you can append successive updates to a key instead. See [this guide](../../how-tos/state-reducers) for more detail.\n",
    "\n",
    "### Define graph\n",
    "\n",
    "We use [StateGraph](../../concepts/low_level/#stategraph) to define a graph that operates on this state.\n",
    "\n",
    "We will then use [add_node](../../concepts/low_level/#messagesstate) and [add_edge](../../concepts/low_level/#edges) to populate our graph and define its control flow."
   ]
  },
  {
   "cell_type": "code",
   "execution_count": null,
   "metadata": {},
   "outputs": [],
   "source": [
    "from langgraph.graph import START, StateGraph\n",
    "\n",
    "graph_builder = StateGraph(State)\n",
    "\n",
    "# Add nodes\n",
    "graph_builder.add_node(step_1)\n",
    "graph_builder.add_node(step_2)\n",
    "graph_builder.add_node(step_3)\n",
    "\n",
    "# Add edges\n",
    "graph_builder.add_edge(START, \"step_1\")\n",
    "graph_builder.add_edge(\"step_1\", \"step_2\")\n",
    "graph_builder.add_edge(\"step_2\", \"step_3\")"
   ]
  },
  {
   "cell_type": "markdown",
   "metadata": {},
   "source": [
    "!!! tip \"Specifying custom names\"\n",
    "\n",
    "    You can specify custom names for nodes using `.add_node`:\n",
    "\n",
    "    ```python\n",
    "    graph_builder.add_node(\"my_node\", step_1)\n",
    "    ```"
   ]
  },
  {
   "cell_type": "markdown",
   "metadata": {},
   "source": [
    "Note that:\n",
    "\n",
    "- `.add_edge` takes the names of nodes, which for functions defaults to `node.__name__`.\n",
    "- We must specify the entry point of the graph. For this we add an edge with the [START node](../../concepts/low_level/#start-node).\n",
    "- The graph halts when there are no more nodes to execute.\n",
    "\n",
    "We next [compile](../../concepts/low_level/#compiling-your-graph) our graph. This provides a few basic checks on the structure of the graph (e.g., identifying orphaned nodes). If we were adding persistence to our application via a [checkpointer](../../concepts/persistence/), it would also be passed in here."
   ]
  },
  {
   "cell_type": "code",
   "execution_count": 4,
   "metadata": {},
   "outputs": [],
   "source": [
    "graph = graph_builder.compile()"
   ]
  },
  {
   "cell_type": "markdown",
   "metadata": {},
   "source": [
    "LangGraph provides built-in utilities for visualizing your graph. Let's inspect our sequence. See [this guide](../../how-tos/visualization) for detail on visualization."
   ]
  },
  {
   "cell_type": "code",
   "execution_count": 5,
   "metadata": {},
   "outputs": [
    {
     "data": {
      "image/png": "[encoded data removed]",
      "text/plain": [
       "<IPython.core.display.Image object>"
      ]
     },
     "metadata": {},
     "output_type": "display_data"
    }
   ],
   "source": [
    "from IPython.display import Image, display\n",
    "\n",
    "display(Image(graph.get_graph().draw_mermaid_png()))"
   ]
  },
  {
   "cell_type": "markdown",
   "metadata": {},
   "source": [
    "### Usage\n",
    "\n",
    "Let's proceed with a simple invocation:"
   ]
  },
  {
   "cell_type": "code",
   "execution_count": 6,
   "metadata": {},
   "outputs": [
    {
     "data": {
      "text/plain": [
       "{'value_1': 'a b', 'value_2': 10}"
      ]
     },
     "execution_count": 6,
     "metadata": {},
     "output_type": "execute_result"
    }
   ],
   "source": [
    "graph.invoke({\"value_1\": \"c\"})"
   ]
  },
  {
   "cell_type": "markdown",
   "metadata": {},
   "source": [
    "Note that:\n",
    "\n",
    "- We kicked off invocation by providing a value for a single state key. We must always provide a value for at least one key.\n",
    "- The value we passed in was overwritten by the first node.\n",
    "- The second node updated the value.\n",
    "- The third node populated a different value."
   ]
  },
  {
   "cell_type": "markdown",
   "metadata": {},
   "source": [
    "## Built-in shorthand\n",
    "\n",
    "!!! info \"Prerequisites\"\n",
    "    `.add_sequence` requires `langgraph>=0.2.46`\n",
    "\n",
    "\n",
    "LangGraph includes a built-in shorthand `.add_sequence` for convenience:"
   ]
  },
  {
   "cell_type": "code",
   "execution_count": 7,
   "metadata": {},
   "outputs": [
    {
     "data": {
      "text/plain": [
       "{'value_1': 'a b', 'value_2': 10}"
      ]
     },
     "execution_count": 7,
     "metadata": {},
     "output_type": "execute_result"
    }
   ],
   "source": [
    "# highlight-next-line\n",
    "graph_builder = StateGraph(State).add_sequence([step_1, step_2, step_3])\n",
    "graph_builder.add_edge(START, \"step_1\")\n",
    "\n",
    "graph = graph_builder.compile()\n",
    "\n",
    "graph.invoke({\"value_1\": \"c\"})"
   ]
  }
 ],
 "metadata": {
  "kernelspec": {
   "display_name": "Python 3 (ipykernel)",
   "language": "python",
   "name": "python3"
  },
  "language_info": {
   "codemirror_mode": {
    "name": "ipython",
    "version": 3
   },
   "file_extension": ".py",
   "mimetype": "text/x-python",
   "name": "python",
   "nbconvert_exporter": "python",
   "pygments_lexer": "ipython3",
   "version": "3.10.4"
  }
 },
 "nbformat": 4,
 "nbformat_minor": 4
}
