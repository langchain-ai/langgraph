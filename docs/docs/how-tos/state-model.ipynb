{
 "cells": [
  {
   "cell_type": "markdown",
   "id": "51466c8d-8ce4-4b3d-be4e-18fdbeda5f53",
   "metadata": {},
   "source": [
    "# How to use Pydantic model as graph state\n",
    "\n",
    "<div class=\"admonition tip\">\n",
    "    <p class=\"admonition-title\">Prerequisites</p>\n",
    "    <p>\n",
    "        This guide assumes familiarity with the following:\n",
    "        <ul>\n",
    "            <li>\n",
    "                <a href=\"https://langchain-ai.github.io/langgraph/concepts/low_level/#state\">\n",
    "                    State\n",
    "                </a>\n",
    "            </li>\n",
    "            <li>\n",
    "                <a href=\"https://langchain-ai.github.io/langgraph/concepts/low_level/#nodes\">\n",
    "                    Nodes\n",
    "                </a>\n",
    "            </li>\n",
    "            <li>\n",
    "                <a href=\"https://github.com/pydantic/pydantic\">\n",
    "                    Pydantic\n",
    "                </a>: this is a popular Python library for run time validation.\n",
    "            </li>\n",
    "        </ul>\n",
    "    </p>\n",
    "</div>\n",
    "\n",
    "A [StateGraph](https://langchain-ai.github.io/langgraph/reference/graphs/#langgraph.graph.StateGraph) accepts a `state_schema` argument on initialization that specifies the \"shape\" of the state that the nodes in the graph can access and update.\n",
    "\n",
    "In our examples, we typically use a python-native `TypedDict` for `state_schema` (or in the case of [MessageGraph](https://langchain-ai.github.io/langgraph/reference/graphs/#messagegraph), a [list](https://docs.python.org/3/library/stdtypes.html#list)), but `state_schema` can be any [type](https://docs.python.org/3/library/stdtypes.html#type-objects).\n",
    "\n",
    "In this how-to guide, we'll see how a [Pydantic BaseModel](https://docs.pydantic.dev/latest/api/base_model/). can be used for `state_schema` to add run time validation on **inputs**.\n",
    "\n",
    "\n",
    "<div class=\"admonition note\">\n",
    "    <p class=\"admonition-title\">Known Limitations</p>\n",
    "    <p>\n",
    "        <ul>\n",
    "            <li>\n",
    "              This notebook uses Pydantic v2 <code>BaseModel</code>, which requires <code>langchain-core >= 0.3</code>. Using <code>langchain-core < 0.3</code> will result in errors due to mixing of Pydantic v1 and v2 <code>BaseModels</code>.      \n",
    "            </li>        \n",
    "            <li>\n",
    "                Currently, the `output` of the graph will **NOT** be an instance of a pydantic model.\n",
    "            </li>\n",
    "            <li>\n",
    "                Run-time validation only occurs on **inputs** into nodes, not on the outputs.\n",
    "            </li>\n",
    "            <li>\n",
    "                The validation error trace from pydantic does not show which node the error arises in.\n",
    "            </li>\n",
    "        </ul>\n",
    "    </p>\n",
    "</div>"
   ]
  },
  {
   "cell_type": "markdown",
   "id": "7cbd446a-808f-4394-be92-d45ab818953c",
   "metadata": {},
   "source": [
    "## Setup\n",
    "\n",
    "First we need to install the packages required"
   ]
  },
  {
   "cell_type": "code",
   "execution_count": 1,
   "id": "af4ce0ba-7596-4e5f-8bf8-0b0bd6e62833",
   "metadata": {},
   "outputs": [],
   "source": [
    "%%capture --no-stderr\n",
    "%pip install --quiet -U langgraph"
   ]
  },
  {
   "cell_type": "code",
   "execution_count": 2,
   "id": "01456d57-4064-4ccb-baf9-98df39c6b8e0",
   "metadata": {},
   "outputs": [],
   "source": [
    "import getpass\n",
    "import os\n",
    "\n",
    "\n",
    "def _set_env(var: str):\n",
    "    if not os.environ.get(var):\n",
    "        os.environ[var] = getpass.getpass(f\"{var}: \")\n",
    "\n",
    "\n",
    "_set_env(\"OPENAI_API_KEY\")"
   ]
  },
  {
   "cell_type": "markdown",
   "id": "4f385bde-e013-4365-88f3-813c632d4b7c",
   "metadata": {},
   "source": [
    "<div class=\"admonition tip\">\n",
    "    <p class=\"admonition-title\">Set up <a href=\"https://smith.langchain.com\">LangSmith</a> for LangGraph development</p>\n",
    "    <p style=\"padding-top: 5px;\">\n",
    "        Sign up for LangSmith to quickly spot issues and improve the performance of your LangGraph projects. LangSmith lets you use trace data to debug, test, and monitor your LLM apps built with LangGraph — read more about how to get started <a href=\"https://docs.smith.langchain.com\">here</a>. \n",
    "    </p>\n",
    "</div>"
   ]
  },
  {
   "cell_type": "markdown",
   "id": "e20dd648-df7a-40f5-9b32-afbdcf1ee4d8",
   "metadata": {},
   "source": [
    "## Input Validation"
   ]
  },
  {
   "cell_type": "code",
   "execution_count": 4,
   "id": "efc46b36-425c-49c3-9f9e-d9785c70b034",
   "metadata": {},
   "outputs": [
    {
     "data": {
      "text/plain": [
       "{'a': 'goodbye'}"
      ]
     },
     "execution_count": 4,
     "metadata": {},
     "output_type": "execute_result"
    }
   ],
   "source": [
    "from langgraph.graph import StateGraph, START, END\n",
    "from typing_extensions import TypedDict\n",
    "\n",
    "from pydantic import BaseModel\n",
    "\n",
    "\n",
    "# The overall state of the graph (this is the public state shared across nodes)\n",
    "class OverallState(BaseModel):\n",
    "    a: str\n",
    "\n",
    "\n",
    "def node(state: OverallState):\n",
    "    return {\"a\": \"goodbye\"}\n",
    "\n",
    "\n",
    "# Build the state graph\n",
    "builder = StateGraph(OverallState)\n",
    "builder.add_node(node)  # node_1 is the first node\n",
    "builder.add_edge(START, \"node\")  # Start the graph with node_1\n",
    "builder.add_edge(\"node\", END)  # End the graph after node_1\n",
    "graph = builder.compile()\n",
    "\n",
    "# Test the graph with a valid input\n",
    "graph.invoke({\"a\": \"hello\"})"
   ]
  },
  {
   "cell_type": "markdown",
   "id": "25b594c2-8198-4f76-9606-ea47151ff9d1",
   "metadata": {},
   "source": [
    "Invoke the graph with an **invalid** input"
   ]
  },
  {
   "cell_type": "code",
   "execution_count": 5,
   "id": "05d7d43b-0b71-4e25-af6f-61d1560a46cb",
   "metadata": {},
   "outputs": [
    {
     "name": "stdout",
     "output_type": "stream",
     "text": [
      "An exception was raised because `a` is an integer rather than a string.\n",
      "1 validation error for OverallState\n",
      "a\n",
      "  Input should be a valid string [type=string_type, input_value=123, input_type=int]\n",
      "    For further information visit https://errors.pydantic.dev/2.9/v/string_type\n"
     ]
    }
   ],
   "source": [
    "try:\n",
    "    graph.invoke({\"a\": 123})  # Should be a string\n",
    "except Exception as e:\n",
    "    print(\"An exception was raised because `a` is an integer rather than a string.\")\n",
    "    print(e)"
   ]
  },
  {
   "cell_type": "markdown",
   "id": "0aafc180-17b5-4364-b1df-fb41aa575067",
   "metadata": {},
   "source": [
    "## Multiple Nodes\n",
    "\n",
    "Run-time validation will also work in a multi-node graph. In the example below `bad_node` updates `a` to an integer. \n",
    "\n",
    "Because run-time validation occurs on **inputs**, the validation error will occur when `ok_node` is called (not when `bad_node` returns an update to the state which is inconsistent with the schema)."
   ]
  },
  {
   "cell_type": "code",
   "execution_count": 6,
   "id": "25336b0d-2fe6-45c8-8204-f962c3995df7",
   "metadata": {},
   "outputs": [
    {
     "name": "stdout",
     "output_type": "stream",
     "text": [
      "An exception was raised because bad_node sets `a` to an integer.\n",
      "1 validation error for OverallState\n",
      "a\n",
      "  Input should be a valid string [type=string_type, input_value=123, input_type=int]\n",
      "    For further information visit https://errors.pydantic.dev/2.9/v/string_type\n"
     ]
    }
   ],
   "source": [
    "from langgraph.graph import StateGraph, START, END\n",
    "from typing_extensions import TypedDict\n",
    "\n",
    "from pydantic import BaseModel\n",
    "\n",
    "\n",
    "# The overall state of the graph (this is the public state shared across nodes)\n",
    "class OverallState(BaseModel):\n",
    "    a: str\n",
    "\n",
    "\n",
    "def bad_node(state: OverallState):\n",
    "    return {\n",
    "        \"a\": 123  # Invalid\n",
    "    }\n",
    "\n",
    "\n",
    "def ok_node(state: OverallState):\n",
    "    return {\"a\": \"goodbye\"}\n",
    "\n",
    "\n",
    "# Build the state graph\n",
    "builder = StateGraph(OverallState)\n",
    "builder.add_node(bad_node)\n",
    "builder.add_node(ok_node)\n",
    "builder.add_edge(START, \"bad_node\")\n",
    "builder.add_edge(\"bad_node\", \"ok_node\")\n",
    "builder.add_edge(\"ok_node\", END)\n",
    "graph = builder.compile()\n",
    "\n",
    "# Test the graph with a valid input\n",
    "try:\n",
    "    graph.invoke({\"a\": \"hello\"})\n",
    "except Exception as e:\n",
    "    print(\"An exception was raised because bad_node sets `a` to an integer.\")\n",
    "    print(e)"
   ]
  },
  {
   "cell_type": "markdown",
   "id": "2270bc3c",
   "metadata": {},
   "source": [
    "## Multiple Nodes\n",
    "\n",
    "Run-time validation will also work in a multi-node graph. In the example below `bad_node` updates `a` to an integer. \n",
    "\n",
    "Because run-time validation occurs on **inputs**, the validation error will occur when `ok_node` is called (not when `bad_node` returns an update to the state which is inconsistent with the schema)."
   ]
  },
  {
   "cell_type": "code",
   "execution_count": null,
   "id": "d832cdcc",
   "metadata": {},
   "outputs": [],
   "source": [
    "from langgraph.graph import StateGraph, START, END\n",
    "from typing_extensions import TypedDict\n",
    "\n",
    "from pydantic import BaseModel\n",
    "\n",
    "\n",
    "# The overall state of the graph (this is the public state shared across nodes)\n",
    "class OverallState(BaseModel):\n",
    "    a: str\n",
    "\n",
    "\n",
    "def bad_node(state: OverallState):\n",
    "    return {\n",
    "        \"a\": 123  # Invalid\n",
    "    }\n",
    "\n",
    "\n",
    "def ok_node(state: OverallState):\n",
    "    return {\"a\": \"goodbye\"}\n",
    "\n",
    "\n",
    "# Build the state graph\n",
    "builder = StateGraph(OverallState)\n",
    "builder.add_node(bad_node)\n",
    "builder.add_node(ok_node)\n",
    "builder.add_edge(START, \"bad_node\")\n",
    "builder.add_edge(\"bad_node\", \"ok_node\")\n",
    "builder.add_edge(\"ok_node\", END)\n",
    "graph = builder.compile()\n",
    "\n",
    "# Test the graph with a valid input\n",
    "try:\n",
    "    graph.invoke({\"a\": \"hello\"})\n",
    "except Exception as e:\n",
    "    print(\"An exception was raised because bad_node sets `a` to an integer.\")\n",
    "    print(e)"
   ]
  },
  {
   "cell_type": "markdown",
   "id": "456b1f77",
   "metadata": {},
   "source": [
    "## Advanced Pydantic Model Usage\n",
    "\n",
    "This section covers more advanced topics when using Pydantic models with LangGraph.\n",
    "\n",
    "### Serialization Behavior\n",
    "\n",
    "When using Pydantic models as state schemas, it's important to understand how serialization works, especially when:\n",
    "- Passing Pydantic objects as inputs\n",
    "- Receiving outputs from the graph\n",
    "- Working with nested Pydantic models\n",
    "\n",
    "Let's see these behaviors in action:"
   ]
  },
  {
   "cell_type": "code",
   "execution_count": null,
   "id": "0e919cdc",
   "metadata": {},
   "outputs": [],
   "source": [
    "from langgraph.graph import StateGraph, START, END\n",
    "from pydantic import BaseModel\n",
    "\n",
    "\n",
    "class NestedModel(BaseModel):\n",
    "    value: str\n",
    "\n",
    "\n",
    "class ComplexState(BaseModel):\n",
    "    text: str\n",
    "    count: int\n",
    "    nested: NestedModel\n",
    "\n",
    "\n",
    "def process_node(state: ComplexState):\n",
    "    # Node receives a validated Pydantic object\n",
    "    print(f\"Input state type: {type(state)}\")\n",
    "    print(f\"Nested type: {type(state.nested)}\")\n",
    "\n",
    "    # Return a dictionary update\n",
    "    return {\"text\": state.text + \" processed\", \"count\": state.count + 1}\n",
    "\n",
    "\n",
    "# Build the graph\n",
    "builder = StateGraph(ComplexState)\n",
    "builder.add_node(\"process\", process_node)\n",
    "builder.add_edge(START, \"process\")\n",
    "builder.add_edge(\"process\", END)\n",
    "graph = builder.compile()\n",
    "\n",
    "# Create a Pydantic instance for input\n",
    "input_state = ComplexState(text=\"hello\", count=0, nested=NestedModel(value=\"test\"))\n",
    "print(f\"Input object type: {type(input_state)}\")\n",
    "\n",
    "# Invoke graph with a Pydantic instance\n",
    "result = graph.invoke(input_state)\n",
    "print(f\"Output type: {type(result)}\")\n",
    "print(f\"Output content: {result}\")\n",
    "\n",
    "# Convert back to Pydantic model if needed\n",
    "output_model = ComplexState(**result)\n",
    "print(f\"Converted back to Pydantic: {type(output_model)}\")"
   ]
  },
  {
   "cell_type": "markdown",
   "id": "f13f28ce",
   "metadata": {},
   "source": [
    "### Runtime Type Coercion\n",
    "\n",
    "Pydantic performs runtime type coercion for certain data types. This can be helpful but also lead to unexpected behavior if you're not aware of it."
   ]
  },
  {
   "cell_type": "code",
   "execution_count": null,
   "id": "faf59316",
   "metadata": {},
   "outputs": [],
   "source": [
    "from langgraph.graph import StateGraph, START, END\n",
    "from pydantic import BaseModel\n",
    "\n",
    "\n",
    "class CoercionExample(BaseModel):\n",
    "    # Pydantic will coerce string numbers to integers\n",
    "    number: int\n",
    "    # Pydantic will parse string booleans to bool\n",
    "    flag: bool\n",
    "\n",
    "\n",
    "def inspect_node(state: CoercionExample):\n",
    "    print(f\"number: {state.number} (type: {type(state.number)})\")\n",
    "    print(f\"flag: {state.flag} (type: {type(state.flag)})\")\n",
    "    return {}\n",
    "\n",
    "\n",
    "builder = StateGraph(CoercionExample)\n",
    "builder.add_node(\"inspect\", inspect_node)\n",
    "builder.add_edge(START, \"inspect\")\n",
    "builder.add_edge(\"inspect\", END)\n",
    "graph = builder.compile()\n",
    "\n",
    "# Demonstrate coercion with string inputs that will be converted\n",
    "result = graph.invoke({\"number\": \"42\", \"flag\": \"true\"})\n",
    "\n",
    "# This would fail with a validation error\n",
    "try:\n",
    "    graph.invoke({\"number\": \"not-a-number\", \"flag\": \"true\"})\n",
    "except Exception as e:\n",
    "    print(f\"\\nExpected validation error: {e}\")"
   ]
  },
  {
   "cell_type": "markdown",
   "id": "2844475b",
   "metadata": {},
   "source": [
    "### Working with Message Models\n",
    "\n",
    "When working with LangChain message types in your state schema, there are important considerations for serialization. You should use `AnyMessage` (rather than `BaseMessage`) for proper serialization/deserialization when using message objects over the wire:"
   ]
  },
  {
   "cell_type": "code",
   "execution_count": null,
   "id": "bd0734b0",
   "metadata": {},
   "outputs": [],
   "source": [
    "from langgraph.graph import StateGraph, START, END\n",
    "from pydantic import BaseModel\n",
    "from langchain_core.messages import HumanMessage, AIMessage, AnyMessage\n",
    "from typing import List\n",
    "\n",
    "\n",
    "class ChatState(BaseModel):\n",
    "    messages: List[AnyMessage]\n",
    "    context: str\n",
    "\n",
    "\n",
    "def add_message(state: ChatState):\n",
    "    return {\"messages\": state.messages + [AIMessage(content=\"Hello there!\")]}\n",
    "\n",
    "\n",
    "builder = StateGraph(ChatState)\n",
    "builder.add_node(\"add_message\", add_message)\n",
    "builder.add_edge(START, \"add_message\")\n",
    "builder.add_edge(\"add_message\", END)\n",
    "graph = builder.compile()\n",
    "\n",
    "# Create input with a message\n",
    "initial_state = ChatState(\n",
    "    messages=[HumanMessage(content=\"Hi\")], context=\"Customer support chat\"\n",
    ")\n",
    "\n",
    "result = graph.invoke(initial_state)\n",
    "print(f\"Output: {result}\")\n",
    "\n",
    "# Convert back to Pydantic model to see message types\n",
    "output_model = ChatState(**result)\n",
    "for i, msg in enumerate(output_model.messages):\n",
    "    print(f\"Message {i}: {type(msg).__name__} - {msg.content}\")"
   ]
  }
 ],
 "metadata": {
  "kernelspec": {
   "display_name": "Python 3 (ipykernel)",
   "language": "python",
   "name": "python3"
  },
  "language_info": {
   "codemirror_mode": {
    "name": "ipython",
    "version": 3
   },
   "file_extension": ".py",
   "mimetype": "text/x-python",
   "name": "python",
   "nbconvert_exporter": "python",
   "pygments_lexer": "ipython3",
   "version": "3.11.4"
  }
 },
 "nbformat": 4,
 "nbformat_minor": 5
}
