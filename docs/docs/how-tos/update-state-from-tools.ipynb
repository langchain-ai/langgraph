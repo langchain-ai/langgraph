{
 "cells": [
  {
   "cell_type": "markdown",
   "id": "7c58c957-83d8-44ff-8580-a9b3dd39a0a9",
   "metadata": {},
   "source": [
    "# How to update graph state from tools"
   ]
  },
  {
   "attachments": {},
   "cell_type": "markdown",
   "id": "95f30587-8dd2-40be-920d-59539089c09f",
   "metadata": {},
   "source": [
    "!!! info \"Prerequisites\"\n",
    "    This guide assumes familiarity with the following:\n",
    "    \n",
    "    - [Command](../../concepts/low_level/#command)\n",
    "\n",
    "A common use case is updating graph state from inside a tool. For example, in a customer support application you might want to look up customer account number or ID in the beginning of the conversation. To update the graph state from the tool, you can return `Command(update={\"my_custom_key\": \"foo\", \"messages\": [...]})` from the tool:\n",
    "\n",
    "```python\n",
    "@tool\n",
    "def lookup_user_info(tool_call_id: Annotated[str, InjectedToolCallId], config: RunnableConfig):\n",
    "    \"\"\"Use this to look up user information to better assist them with their questions.\"\"\"\n",
    "    user_info = get_user_info(config)\n",
    "    return Command(\n",
    "        update={\n",
    "            # update the state keys\n",
    "            \"user_info\": user_info,\n",
    "            # update the message history\n",
    "            \"messages\": [ToolMessage(\"Successfully looked up user information\", tool_call_id=tool_call_id)]\n",
    "        }\n",
    "    )\n",
    "```\n",
    "\n",
    "!!! important\n",
    "\n",
    "    If you want to use tools that return `Command` and update graph state, you can either use prebuilt [`create_react_agent`][langgraph.prebuilt.chat_agent_executor.create_react_agent] / [`ToolNode`][langgraph.prebuilt.tool_node.ToolNode] components, or implement your own tool-executing node that collects `Command` objects returned by the tools and returns a list of them, e.g.:\n",
    "    \n",
    "    ```python\n",
    "    def call_tools(state):\n",
    "        ...\n",
    "        commands = [tools_by_name[tool_call[\"name\"]].invoke(tool_call) for tool_call in tool_calls]\n",
    "        return commands\n",
    "    ```\n",
    "\n",
    "This guide shows how you can do this using LangGraph's prebuilt components ([`create_react_agent`][langgraph.prebuilt.chat_agent_executor.create_react_agent] / [`ToolNode`][langgraph.prebuilt.tool_node.ToolNode]).\n",
    "\n",
    "!!! note\n",
    "\n",
    "    Support for tools that return [`Command`][langgraph.types.Command] was added in LangGraph `v0.2.59`.\n",
    "\n",
    "## Setup\n",
    "\n",
    "First, let's install the required packages and set our API keys:"
   ]
  },
  {
   "cell_type": "code",
   "execution_count": 1,
   "id": "64500eca-1cdc-43d9-9401-f4cd9999881f",
   "metadata": {},
   "outputs": [],
   "source": [
    "%%capture --no-stderr\n",
    "%pip install -U langgraph langchain-openai"
   ]
  },
  {
   "cell_type": "code",
   "execution_count": 2,
   "id": "a3f92fb2-9175-47fa-9c7d-ad5f44bfd20e",
   "metadata": {},
   "outputs": [
    {
     "name": "stdout",
     "output_type": "stream",
     "text": [
      "Please provide your OPENAI_API_KEY ········\n"
     ]
    }
   ],
   "source": [
    "import os\n",
    "import getpass\n",
    "\n",
    "\n",
    "def _set_if_undefined(var: str):\n",
    "    if not os.environ.get(var):\n",
    "        os.environ[var] = getpass.getpass(f\"Please provide your {var}\")\n",
    "\n",
    "\n",
    "_set_if_undefined(\"OPENAI_API_KEY\")"
   ]
  },
  {
   "cell_type": "markdown",
   "id": "caf6ff9f-c1e6-499e-a230-9fa231ea7d2f",
   "metadata": {},
   "source": [
    "<div class=\"admonition tip\">\n",
    "    <p class=\"admonition-title\">Set up <a href=\"https://smith.langchain.com\">LangSmith</a> for LangGraph development</p>\n",
    "    <p style=\"padding-top: 5px;\">\n",
    "        Sign up for LangSmith to quickly spot issues and improve the performance of your LangGraph projects. LangSmith lets you use trace data to debug, test, and monitor your LLM apps built with LangGraph — read more about how to get started <a href=\"https://docs.smith.langchain.com\">here</a>. \n",
    "    </p>\n",
    "</div>"
   ]
  },
  {
   "cell_type": "markdown",
   "id": "10e9a9c6-fa3f-416c-bac0-3e58d7259908",
   "metadata": {},
   "source": [
    "Let's create a simple ReAct style agent that can look up user information and personalize the response based on the user info."
   ]
  },
  {
   "cell_type": "markdown",
   "id": "4255b9b9-cf67-4cc3-8018-1708f5dfcfd2",
   "metadata": {},
   "source": [
    "## Define tool"
   ]
  },
  {
   "cell_type": "markdown",
   "id": "7de6b010-aab1-4fe8-8251-907fcae78583",
   "metadata": {},
   "source": [
    "First, let's define the tool that we'll be using to look up user information. We'll use a naive implementation that simply looks user information up using a dictionary:"
   ]
  },
  {
   "cell_type": "code",
   "execution_count": null,
   "id": "8d070c9f-6e61-4724-85dc-ac4531b9c79a",
   "metadata": {},
   "outputs": [],
   "source": [
    "USER_INFO = [\n",
    "    {\"user_id\": \"1\", \"name\": \"Bob Dylan\", \"location\": \"New York, NY\"},\n",
    "    {\"user_id\": \"2\", \"name\": \"Taylor Swift\", \"location\": \"Beverly Hills, CA\"},\n",
    "]\n",
    "\n",
    "USER_ID_TO_USER_INFO = {info[\"user_id\"]: info for info in USER_INFO}"
   ]
  },
  {
   "cell_type": "code",
   "execution_count": 3,
   "id": "08d1ecca-ee57-4e97-b8d0-e09de85337d4",
   "metadata": {},
   "outputs": [],
   "source": [
    "from langgraph.prebuilt.chat_agent_executor import AgentState\n",
    "from langgraph.types import Command\n",
    "from langchain_core.tools import tool\n",
    "from langchain_core.tools.base import InjectedToolCallId\n",
    "from langchain_core.messages import ToolMessage\n",
    "from langchain_core.runnables import RunnableConfig\n",
    "\n",
    "from typing_extensions import Any, Annotated\n",
    "\n",
    "\n",
    "class State(AgentState):\n",
    "    # updated by the tool\n",
    "    user_info: dict[str, Any]\n",
    "\n",
    "\n",
    "@tool\n",
    "def lookup_user_info(\n",
    "    tool_call_id: Annotated[str, InjectedToolCallId], config: RunnableConfig\n",
    "):\n",
    "    \"\"\"Use this to look up user information to better assist them with their questions.\"\"\"\n",
    "    user_id = config.get(\"configurable\", {}).get(\"user_id\")\n",
    "    if user_id is None:\n",
    "        raise ValueError(\"Please provide user ID\")\n",
    "\n",
    "    if user_id not in USER_ID_TO_USER_INFO:\n",
    "        raise ValueError(f\"User '{user_id}' not found\")\n",
    "\n",
    "    user_info = USER_ID_TO_USER_INFO[user_id]\n",
    "    return Command(\n",
    "        update={\n",
    "            # update the state keys\n",
    "            \"user_info\": user_info,\n",
    "            # update the message history\n",
    "            \"messages\": [\n",
    "                ToolMessage(\n",
    "                    \"Successfully looked up user information\", tool_call_id=tool_call_id\n",
    "                )\n",
    "            ],\n",
    "        }\n",
    "    )"
   ]
  },
  {
   "cell_type": "markdown",
   "id": "b99e5f24-5e5e-4a34-baae-467182675bb5",
   "metadata": {},
   "source": [
    "## Define prompt"
   ]
  },
  {
   "cell_type": "markdown",
   "id": "cbb06aea-6654-4245-91f8-af6e8f2b5377",
   "metadata": {},
   "source": [
    "Let's now add personalization: we'll respond differently to the user based on the state values AFTER the state has been updated from the tool. To achieve this, let's define a function that will dynamically construct the system prompt based on the graph state. It will be called every time the LLM is called and the function output will be passed to the LLM:"
   ]
  },
  {
   "cell_type": "code",
   "execution_count": 4,
   "id": "c553d062-d145-4145-84bd-9b798f7c95c2",
   "metadata": {},
   "outputs": [],
   "source": [
    "def prompt(state: State):\n",
    "    user_info = state.get(\"user_info\")\n",
    "    if user_info is None:\n",
    "        return state[\"messages\"]\n",
    "\n",
    "    system_msg = (\n",
    "        f\"User name is {user_info['name']}. User lives in {user_info['location']}\"\n",
    "    )\n",
    "    return [{\"role\": \"system\", \"content\": system_msg}] + state[\"messages\"]"
   ]
  },
  {
   "cell_type": "markdown",
   "id": "c5acdd5d-68be-466b-9c21-46cbed91d2bc",
   "metadata": {},
   "source": [
    "## Define graph"
   ]
  },
  {
   "cell_type": "markdown",
   "id": "afb65028-0359-46c8-b09c-ffc90180f759",
   "metadata": {},
   "source": [
    "Finally, let's combine this into a single graph using the prebuilt `create_react_agent`:"
   ]
  },
  {
   "cell_type": "code",
   "execution_count": 5,
   "id": "2d59db29-fd51-4d29-9854-21763a4855e3",
   "metadata": {},
   "outputs": [],
   "source": [
    "from langgraph.prebuilt import create_react_agent\n",
    "from langchain_openai import ChatOpenAI\n",
    "\n",
    "model = ChatOpenAI(model=\"gpt-4o\")\n",
    "\n",
    "agent = create_react_agent(\n",
    "    model,\n",
    "    # pass the tool that can update state\n",
    "    [lookup_user_info],\n",
    "    state_schema=State,\n",
    "    # pass dynamic prompt function\n",
    "    prompt=prompt,\n",
    ")"
   ]
  },
  {
   "cell_type": "markdown",
   "id": "0782b8ab-a603-47b8-9a76-77f593402678",
   "metadata": {},
   "source": [
    "## Use it!"
   ]
  },
  {
   "cell_type": "markdown",
   "id": "6165e153-ab28-4404-adea-796c7bd0701b",
   "metadata": {},
   "source": [
    "Let's now try running our agent. We'll need to provide user ID in the config so that our tool knows what information to look up:"
   ]
  },
  {
   "cell_type": "code",
   "execution_count": 6,
   "id": "de34a58b-1765-4b63-a232-d46790aff884",
   "metadata": {},
   "outputs": [
    {
     "name": "stdout",
     "output_type": "stream",
     "text": [
      "{'agent': {'messages': [AIMessage(content='', additional_kwargs={'tool_calls': [{'id': 'call_7LSUh6ZDvGJAUvlWvXiCK4Gf', 'function': {'arguments': '{}', 'name': 'lookup_user_info'}, 'type': 'function'}], 'refusal': None}, response_metadata={'token_usage': {'completion_tokens': 11, 'prompt_tokens': 56, 'total_tokens': 67, 'completion_tokens_details': {'accepted_prediction_tokens': 0, 'audio_tokens': 0, 'reasoning_tokens': 0, 'rejected_prediction_tokens': 0}, 'prompt_tokens_details': {'audio_tokens': 0, 'cached_tokens': 0}}, 'model_name': 'gpt-4o-2024-08-06', 'system_fingerprint': 'fp_9d50cd990b', 'finish_reason': 'tool_calls', 'logprobs': None}, id='run-57eeb216-e35d-4501-aaac-b5c6b26fb17c-0', tool_calls=[{'name': 'lookup_user_info', 'args': {}, 'id': 'call_7LSUh6ZDvGJAUvlWvXiCK4Gf', 'type': 'tool_call'}], usage_metadata={'input_tokens': 56, 'output_tokens': 11, 'total_tokens': 67, 'input_token_details': {'audio': 0, 'cache_read': 0}, 'output_token_details': {'audio': 0, 'reasoning': 0}})]}}\n",
      "\n",
      "\n",
      "{'tools': {'user_info': {'user_id': '1', 'name': 'Bob Dylan', 'location': 'New York, NY'}, 'messages': [ToolMessage(content='Successfully looked up user information', name='lookup_user_info', id='168d8ff8-b021-4c8b-a11a-3b50c30a072c', tool_call_id='call_7LSUh6ZDvGJAUvlWvXiCK4Gf')]}}\n",
      "\n",
      "\n",
      "{'agent': {'messages': [AIMessage(content=\"Hi Bob! Since you're in New York, NY, there are plenty of exciting things to do over the weekend. Here are some suggestions:\\n\\n1. **Explore Central Park**: Take a leisurely walk, rent a bike, or have a picnic in this iconic park.\\n\\n2. **Visit a Museum**: Check out The Metropolitan Museum of Art or the Museum of Modern Art (MoMA) for an enriching cultural experience.\\n\\n3. **Broadway Show**: Catch a Broadway show or an off-Broadway performance for some world-class entertainment.\\n\\n4. **Food Tour**: Explore different neighborhoods like Greenwich Village or Williamsburg for diverse culinary experiences.\\n\\n5. **Brooklyn Bridge Walk**: Take a walk across the Brooklyn Bridge for stunning views of the city skyline.\\n\\n6. **Visit a Rooftop Bar**: Enjoy a drink with a view at one of New York’s many rooftop bars.\\n\\n7. **Explore a New Neighborhood**: Discover the unique charm of areas like SoHo, Chelsea, or Astoria.\\n\\n8. **Live Music**: Check out live music venues for a night of great performances.\\n\\n9. **Art Galleries**: Visit some of the smaller art galleries around Chelsea or the Lower East Side.\\n\\n10. **Attend a Local Event**: Look up any local events or festivals happening this weekend.\\n\\nFeel free to let me know if you want more details on any of these activities!\", additional_kwargs={'refusal': None}, response_metadata={'token_usage': {'completion_tokens': 285, 'prompt_tokens': 95, 'total_tokens': 380, 'completion_tokens_details': {'accepted_prediction_tokens': 0, 'audio_tokens': 0, 'reasoning_tokens': 0, 'rejected_prediction_tokens': 0}, 'prompt_tokens_details': {'audio_tokens': 0, 'cached_tokens': 0}}, 'model_name': 'gpt-4o-2024-08-06', 'system_fingerprint': 'fp_9d50cd990b', 'finish_reason': 'stop', 'logprobs': None}, id='run-f13ce15b-02b6-40e6-8264-c4d9edd0d03a-0', usage_metadata={'input_tokens': 95, 'output_tokens': 285, 'total_tokens': 380, 'input_token_details': {'audio': 0, 'cache_read': 0}, 'output_token_details': {'audio': 0, 'reasoning': 0}})]}}\n",
      "\n",
      "\n"
     ]
    }
   ],
   "source": [
    "for chunk in agent.stream(\n",
    "    {\"messages\": [(\"user\", \"hi, what should i do this weekend?\")]},\n",
    "    # provide user ID in the config\n",
    "    {\"configurable\": {\"user_id\": \"1\"}},\n",
    "):\n",
    "    print(chunk)\n",
    "    print(\"\\n\")"
   ]
  },
  {
   "cell_type": "markdown",
   "id": "d9b2281f-269c-41dd-b6b2-4c743f11ffc9",
   "metadata": {},
   "source": [
    "We can see that the model correctly recommended some New York activities for Bob Dylan! Let's try getting recommendations for Taylor Swift:"
   ]
  },
  {
   "cell_type": "code",
   "execution_count": 7,
   "id": "9d71af94-572a-4961-88a7-665e792cf96a",
   "metadata": {},
   "outputs": [
    {
     "name": "stdout",
     "output_type": "stream",
     "text": [
      "{'agent': {'messages': [AIMessage(content='', additional_kwargs={'tool_calls': [{'id': 'call_5HLtJtzcgmKbtmK6By21wW5Y', 'function': {'arguments': '{}', 'name': 'lookup_user_info'}, 'type': 'function'}], 'refusal': None}, response_metadata={'token_usage': {'completion_tokens': 11, 'prompt_tokens': 56, 'total_tokens': 67, 'completion_tokens_details': {'accepted_prediction_tokens': 0, 'audio_tokens': 0, 'reasoning_tokens': 0, 'rejected_prediction_tokens': 0}, 'prompt_tokens_details': {'audio_tokens': 0, 'cached_tokens': 0}}, 'model_name': 'gpt-4o-2024-08-06', 'system_fingerprint': 'fp_c7ca0ebaca', 'finish_reason': 'tool_calls', 'logprobs': None}, id='run-bacacd7d-76cc-4f6b-9e9b-d9e6f00b9391-0', tool_calls=[{'name': 'lookup_user_info', 'args': {}, 'id': 'call_5HLtJtzcgmKbtmK6By21wW5Y', 'type': 'tool_call'}], usage_metadata={'input_tokens': 56, 'output_tokens': 11, 'total_tokens': 67, 'input_token_details': {'audio': 0, 'cache_read': 0}, 'output_token_details': {'audio': 0, 'reasoning': 0}})]}}\n",
      "\n",
      "\n",
      "{'tools': {'user_info': {'user_id': '2', 'name': 'Taylor Swift', 'location': 'Beverly Hills, CA'}, 'messages': [ToolMessage(content='Successfully looked up user information', name='lookup_user_info', id='d81ef31e-6d77-4f13-ae86-e2e6ba567e3d', tool_call_id='call_5HLtJtzcgmKbtmK6By21wW5Y')]}}\n",
      "\n",
      "\n",
      "{'agent': {'messages': [AIMessage(content=\"Hi Taylor! Since you're in Beverly Hills, here are a few suggestions for a fun weekend:\\n\\n1. **Hiking at Runyon Canyon**: Enjoy a scenic hike with beautiful views of Los Angeles. It's a great way to get some exercise and enjoy the outdoors.\\n\\n2. **Visit Rodeo Drive**: Spend some time shopping or window shopping at the famous Rodeo Drive. You might even spot some celebrities!\\n\\n3. **Explore the Getty Center**: Check out the art collections and beautiful gardens at the Getty Center. The architecture and views are stunning.\\n\\n4. **Relax at a Spa**: Treat yourself to a relaxing day at one of Beverly Hills' luxurious spas.\\n\\n5. **Dining Out**: Try a new restaurant or visit your favorite spot for a delicious meal. Beverly Hills has a fantastic dining scene.\\n\\n6. **Attend a Local Event**: Check out any local events or concerts happening this weekend. Beverly Hills often hosts exciting events.\\n\\nEnjoy your weekend!\", additional_kwargs={'refusal': None}, response_metadata={'token_usage': {'completion_tokens': 198, 'prompt_tokens': 95, 'total_tokens': 293, 'completion_tokens_details': {'accepted_prediction_tokens': 0, 'audio_tokens': 0, 'reasoning_tokens': 0, 'rejected_prediction_tokens': 0}, 'prompt_tokens_details': {'audio_tokens': 0, 'cached_tokens': 0}}, 'model_name': 'gpt-4o-2024-08-06', 'system_fingerprint': 'fp_c7ca0ebaca', 'finish_reason': 'stop', 'logprobs': None}, id='run-2057df76-f192-4c69-a66a-1f0a86bf5d66-0', usage_metadata={'input_tokens': 95, 'output_tokens': 198, 'total_tokens': 293, 'input_token_details': {'audio': 0, 'cache_read': 0}, 'output_token_details': {'audio': 0, 'reasoning': 0}})]}}\n",
      "\n",
      "\n"
     ]
    }
   ],
   "source": [
    "for chunk in agent.stream(\n",
    "    {\"messages\": [(\"user\", \"hi, what should i do this weekend?\")]},\n",
    "    {\"configurable\": {\"user_id\": \"2\"}},\n",
    "):\n",
    "    print(chunk)\n",
    "    print(\"\\n\")"
   ]
  }
 ],
 "metadata": {
  "kernelspec": {
   "display_name": "Python 3 (ipykernel)",
   "language": "python",
   "name": "python3"
  },
  "language_info": {
   "codemirror_mode": {
    "name": "ipython",
    "version": 3
   },
   "file_extension": ".py",
   "mimetype": "text/x-python",
   "name": "python",
   "nbconvert_exporter": "python",
   "pygments_lexer": "ipython3",
   "version": "3.12.3"
  }
 },
 "nbformat": 4,
 "nbformat_minor": 5
}
