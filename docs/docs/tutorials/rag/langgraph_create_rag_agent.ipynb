{
 "cells": [
  {
   "attachments": {},
   "cell_type": "markdown",
   "id": "46397e48-aba2-4bd3-bb31-d840f2fcbda4",
   "metadata": {
    "editable": true,
    "slideshow": {
     "slide_type": ""
    },
    "tags": []
   },
   "source": [
    "# Custom `create_rag_agent` function\n",
    "\n",
    "In this tutorial, we will build a custom `create_rag_agent` function that resembles the `langgraph.prebuilt.create_react_agent` function.\n",
    "\n",
    "The `create_react_agent` helps with fast prototyping of a typical `ReAct` agent.\n",
    "The `create_rag_agent` helps with fast prototyping of a typical `RAG` agent.\n",
    "\n",
    "The `create_rag_agent` has more moving parts and configuration points. But the idea is the same: get a typical RAG agent without ceremony.\n",
    "\n",
    "To build a typical RAG, we need these parts:\n",
    "- a `LLM` for reasoning and text generation\n",
    "- a `vector store` which also requires an `embedding model`\n",
    "- We can also use the `retriever tool` that encapsulates the `vector store`. We use the 'retriever_tool' in this notebook.\n",
    "\n",
    "We initialize them outside the `create_rag_agent` function and pass them into the function as arguments.\n",
    "We also fill in our vector store outside the `create_rag_agent` function.\n",
    "\n",
    "### RAG functionality\n",
    "\n",
    "We add 3 typical RAG features:\n",
    "- query transformation. It runs if the agent didn't find a relevant answer or if the retrieved documents are not relevant to the query. It can run several times.\n",
    "- [optional] external search tools. It could be a web search, or Wikipedia search, or arXiv search, or other tools. It helps by searching for necessary information in external data sources.\n",
    "- [optional] document grading. It verifies if the retrieved information is relevant to the query.\n"
   ]
  },
  {
   "cell_type": "markdown",
   "id": "272683b1-5289-4dc6-9637-80c740f103eb",
   "metadata": {},
   "source": [
    "## Setup"
   ]
  },
  {
   "cell_type": "code",
   "execution_count": 1,
   "id": "e4958a8c",
   "metadata": {
    "execution": {
     "iopub.execute_input": "2025-05-31T00:00:00.957890Z",
     "iopub.status.busy": "2025-05-31T00:00:00.957807Z",
     "iopub.status.idle": "2025-05-31T00:00:00.961888Z",
     "shell.execute_reply": "2025-05-31T00:00:00.961558Z",
     "shell.execute_reply.started": "2025-05-31T00:00:00.957881Z"
    }
   },
   "outputs": [],
   "source": [
    "import getpass\n",
    "import os\n",
    "\n",
    "\n",
    "def _set_env(key: str):\n",
    "    if key not in os.environ:\n",
    "        os.environ[key] = getpass.getpass(f\"{key}:\")"
   ]
  },
  {
   "cell_type": "markdown",
   "id": "3f093457-1f3a-4ef5-b6cb-63284efe942c",
   "metadata": {},
   "source": [
    "### Initialize LLM"
   ]
  },
  {
   "cell_type": "code",
   "execution_count": 2,
   "id": "c6077a12-43f6-4ef4-a55e-b99d5ea45bb9",
   "metadata": {
    "execution": {
     "iopub.execute_input": "2025-05-31T00:00:08.548886Z",
     "iopub.status.busy": "2025-05-31T00:00:08.548705Z",
     "iopub.status.idle": "2025-05-31T00:00:10.839757Z",
     "shell.execute_reply": "2025-05-31T00:00:10.838522Z",
     "shell.execute_reply.started": "2025-05-31T00:00:08.548871Z"
    }
   },
   "outputs": [
    {
     "name": "stdin",
     "output_type": "stream",
     "text": [
      "GOOGLE_API_KEY: ········\n"
     ]
    }
   ],
   "source": [
    "_set_env(\"GOOGLE_API_KEY\")"
   ]
  },
  {
   "cell_type": "code",
   "execution_count": 3,
   "id": "969fb438",
   "metadata": {
    "execution": {
     "iopub.execute_input": "2025-05-31T00:00:13.651919Z",
     "iopub.status.busy": "2025-05-31T00:00:13.651707Z",
     "iopub.status.idle": "2025-05-31T00:00:20.489664Z",
     "shell.execute_reply": "2025-05-31T00:00:20.488716Z",
     "shell.execute_reply.started": "2025-05-31T00:00:13.651903Z"
    }
   },
   "outputs": [
    {
     "name": "stdout",
     "output_type": "stream",
     "text": [
      "Oh, LangChain, you weaver of thought and tool, you chain the LLM's vast mind to the world's deep truth, birthing agents that learn and soar across data's boundless sea.\n"
     ]
    }
   ],
   "source": [
    "from langchain_google_genai import ChatGoogleGenerativeAI\n",
    "from langchain_core.messages import HumanMessage\n",
    "\n",
    "llm = ChatGoogleGenerativeAI(model=\"gemini-2.5-flash-preview-05-20\", )\n",
    "\n",
    "# Simple text invocation\n",
    "result = llm.invoke(\"Sing a ballad of LangChain in one sentence.\")\n",
    "print(result.content)"
   ]
  },
  {
   "cell_type": "markdown",
   "id": "49b306a4-08a1-43d5-9618-89783b5b2c93",
   "metadata": {},
   "source": [
    "### Initialize tools"
   ]
  },
  {
   "cell_type": "code",
   "execution_count": 4,
   "id": "59ef20f2-0c0d-425c-96f8-dbc9d46985da",
   "metadata": {
    "execution": {
     "iopub.execute_input": "2025-05-31T00:00:20.492106Z",
     "iopub.status.busy": "2025-05-31T00:00:20.491348Z",
     "iopub.status.idle": "2025-05-31T00:00:20.514157Z",
     "shell.execute_reply": "2025-05-31T00:00:20.513703Z",
     "shell.execute_reply.started": "2025-05-31T00:00:20.492066Z"
    }
   },
   "outputs": [],
   "source": [
    "from langchain_community.tools.arxiv import ArxivQueryRun\n",
    "\n",
    "arxiv_tool = ArxivQueryRun()"
   ]
  },
  {
   "cell_type": "code",
   "execution_count": 5,
   "id": "506ecc39-3cc8-49eb-a651-a2c2aa92b1c9",
   "metadata": {
    "execution": {
     "iopub.execute_input": "2025-05-31T00:00:20.514707Z",
     "iopub.status.busy": "2025-05-31T00:00:20.514587Z",
     "iopub.status.idle": "2025-05-31T00:00:20.607048Z",
     "shell.execute_reply": "2025-05-31T00:00:20.606681Z",
     "shell.execute_reply.started": "2025-05-31T00:00:20.514697Z"
    }
   },
   "outputs": [],
   "source": [
    "from langchain_community.tools import WikipediaQueryRun\n",
    "from langchain_community.utilities import WikipediaAPIWrapper\n",
    "\n",
    "wikipedia_tool = WikipediaQueryRun(api_wrapper=WikipediaAPIWrapper())"
   ]
  },
  {
   "cell_type": "code",
   "execution_count": 6,
   "id": "ae0f6737-7b14-4626-bfeb-f3f2b0cefcb5",
   "metadata": {
    "execution": {
     "iopub.execute_input": "2025-05-31T00:00:21.246762Z",
     "iopub.status.busy": "2025-05-31T00:00:21.245442Z",
     "iopub.status.idle": "2025-05-31T00:00:21.262131Z",
     "shell.execute_reply": "2025-05-31T00:00:21.261589Z",
     "shell.execute_reply.started": "2025-05-31T00:00:21.246718Z"
    }
   },
   "outputs": [],
   "source": [
    "from langchain_community.tools import DuckDuckGoSearchResults\n",
    "\n",
    "web_tool = DuckDuckGoSearchResults()"
   ]
  },
  {
   "cell_type": "code",
   "execution_count": 7,
   "id": "e8d7987f-62f0-4590-b510-0b1677f05a7b",
   "metadata": {
    "execution": {
     "iopub.execute_input": "2025-05-31T00:00:24.416404Z",
     "iopub.status.busy": "2025-05-31T00:00:24.416037Z",
     "iopub.status.idle": "2025-05-31T00:00:24.421363Z",
     "shell.execute_reply": "2025-05-31T00:00:24.420578Z",
     "shell.execute_reply.started": "2025-05-31T00:00:24.416375Z"
    }
   },
   "outputs": [],
   "source": [
    "tools = [arxiv_tool, wikipedia_tool, web_tool]"
   ]
  },
  {
   "cell_type": "markdown",
   "id": "b0b7c7be-c29e-4157-9a78-1ff91e0c94c7",
   "metadata": {},
   "source": [
    "### Initialize Vector store as a retriever tool\n",
    "\n",
    "We scrap several documents and use them for a new vector store."
   ]
  },
  {
   "cell_type": "code",
   "execution_count": 8,
   "id": "20d2770c-c1cb-45e9-b93f-6c44732f4d96",
   "metadata": {
    "execution": {
     "iopub.execute_input": "2025-05-31T00:00:27.028396Z",
     "iopub.status.busy": "2025-05-31T00:00:27.027872Z",
     "iopub.status.idle": "2025-05-31T00:00:27.646621Z",
     "shell.execute_reply": "2025-05-31T00:00:27.646180Z",
     "shell.execute_reply.started": "2025-05-31T00:00:27.028351Z"
    }
   },
   "outputs": [
    {
     "name": "stderr",
     "output_type": "stream",
     "text": [
      "USER_AGENT environment variable not set, consider setting it to identify your requests.\n"
     ]
    },
    {
     "data": {
      "text/plain": [
       "3"
      ]
     },
     "execution_count": 8,
     "metadata": {},
     "output_type": "execute_result"
    }
   ],
   "source": [
    "from langchain_community.document_loaders import WebBaseLoader\n",
    "\n",
    "urls = [\n",
    "    \"https://lilianweng.github.io/posts/2024-11-28-reward-hacking/\",\n",
    "    \"https://lilianweng.github.io/posts/2024-07-07-hallucination/\",\n",
    "    \"https://lilianweng.github.io/posts/2024-04-12-diffusion-video/\",\n",
    "]\n",
    "\n",
    "docs = [WebBaseLoader(url).load() for url in urls]\n",
    "len(docs)"
   ]
  },
  {
   "cell_type": "code",
   "execution_count": 9,
   "id": "07a85929-dca8-4bcc-bd2a-56290a0657fc",
   "metadata": {
    "execution": {
     "iopub.execute_input": "2025-05-31T00:00:29.803013Z",
     "iopub.status.busy": "2025-05-31T00:00:29.802416Z",
     "iopub.status.idle": "2025-05-31T00:00:30.025931Z",
     "shell.execute_reply": "2025-05-31T00:00:30.025426Z",
     "shell.execute_reply.started": "2025-05-31T00:00:29.802975Z"
    }
   },
   "outputs": [
    {
     "data": {
      "text/plain": [
       "540"
      ]
     },
     "execution_count": 9,
     "metadata": {},
     "output_type": "execute_result"
    }
   ],
   "source": [
    "from langchain_text_splitters import RecursiveCharacterTextSplitter\n",
    "\n",
    "docs_list = [item for sublist in docs for item in sublist]\n",
    "\n",
    "text_splitter = RecursiveCharacterTextSplitter.from_tiktoken_encoder(\n",
    "    chunk_size=100, chunk_overlap=50\n",
    ")\n",
    "doc_splits = text_splitter.split_documents(docs_list)\n",
    "len(doc_splits)"
   ]
  },
  {
   "cell_type": "code",
   "execution_count": 10,
   "id": "11e4a4f0-d899-46e7-b21b-121b0f7abf10",
   "metadata": {
    "execution": {
     "iopub.execute_input": "2025-05-31T00:00:32.371208Z",
     "iopub.status.busy": "2025-05-31T00:00:32.370576Z",
     "iopub.status.idle": "2025-05-31T00:00:33.991864Z",
     "shell.execute_reply": "2025-05-31T00:00:33.991324Z",
     "shell.execute_reply.started": "2025-05-31T00:00:32.371166Z"
    }
   },
   "outputs": [],
   "source": [
    "from langchain_core.vectorstores import InMemoryVectorStore\n",
    "from langchain_google_genai import GoogleGenerativeAIEmbeddings\n",
    "\n",
    "embeddings = GoogleGenerativeAIEmbeddings(model=\"models/gemini-embedding-exp-03-07\")\n",
    "\n",
    "# In this example, use only 10 chunks\n",
    "vectorstore = InMemoryVectorStore.from_documents(\n",
    "    documents=doc_splits[:10], embedding=embeddings\n",
    ")\n",
    "retriever = vectorstore.as_retriever()"
   ]
  },
  {
   "cell_type": "code",
   "execution_count": 11,
   "id": "732545fe-a74b-46ca-833e-070f4aad28dc",
   "metadata": {
    "execution": {
     "iopub.execute_input": "2025-05-31T00:00:35.851463Z",
     "iopub.status.busy": "2025-05-31T00:00:35.850156Z",
     "iopub.status.idle": "2025-05-31T00:00:35.866053Z",
     "shell.execute_reply": "2025-05-31T00:00:35.865728Z",
     "shell.execute_reply.started": "2025-05-31T00:00:35.851404Z"
    }
   },
   "outputs": [],
   "source": [
    "from langchain.tools.retriever import create_retriever_tool\n",
    "\n",
    "retriever_tool = create_retriever_tool(\n",
    "    retriever,\n",
    "    \"retrieve_blog_posts\",\n",
    "    \"Search and return information about Lilian Weng blog posts.\",\n",
    ")"
   ]
  },
  {
   "cell_type": "code",
   "execution_count": 12,
   "id": "e4581e85-21eb-4190-b45b-21b5e842084d",
   "metadata": {
    "execution": {
     "iopub.execute_input": "2025-05-31T00:00:38.897759Z",
     "iopub.status.busy": "2025-05-31T00:00:38.897342Z",
     "iopub.status.idle": "2025-05-31T00:00:39.598241Z",
     "shell.execute_reply": "2025-05-31T00:00:39.597890Z",
     "shell.execute_reply.started": "2025-05-31T00:00:38.897726Z"
    }
   },
   "outputs": [
    {
     "data": {
      "text/plain": [
       "'Reward hacking occurs when a reinforcement learning (RL) agent exploits flaws or ambiguities in the reward function to achieve high rewards, without genuinely learning or completing the intended task. Reward hacking exists because RL environments are often imperfect, and it is fundamentally challenging to accurately specify a reward function.\\n\\nReward hacking examples in LLM tasks\\n\\nReward hacking examples in real life\\n\\n\\nWhy does Reward Hacking Exist?\\n\\n\\nHacking RL Environment\\n\\nHacking RLHF of LLMs\\n\\nHacking the Training Process\\n\\nHacking the Evaluator\\n\\nIn-Context Reward Hacking\\n\\n\\nGeneralization of Hacking Skills\\n\\nPeek into Mitigations\\n\\nRL Algorithm Improvement\\n\\nDetecting Reward Hacking\\n\\nTable of Contents\\n\\n\\n\\nBackground\\n\\nReward Function in RL\\n\\nSpurious Correlation\\n\\n\\nLet’s Define Reward Hacking\\n\\nList of Examples\\n\\nReward hacking examples in RL tasks\\n\\nReward hacking examples in LLM tasks\\n\\nReward hacking examples in real life\\n\\n\\nWhy does Reward Hacking Exist?\\n\\n\\nHacking RL Environment\\n\\nHacking RLHF of LLMs\\n\\nHacking the Training Process\\n\\nMost of the past work on this topic has been quite theoretical and focused on defining or demonstrating the existence of reward hacking. However, research into practical mitigations, especially in the context of RLHF and LLMs, remains limited. I especially want to call out for more research efforts directed toward understanding and developing mitigation for reward hacking in the future. Hope I will be able to cover the mitigation part in a dedicated post soon.\\nBackground#\\nReward Function in RL#'"
      ]
     },
     "execution_count": 12,
     "metadata": {},
     "output_type": "execute_result"
    }
   ],
   "source": [
    "retriever_tool.invoke({\"query\": \"types of reward hacking\"})"
   ]
  },
  {
   "cell_type": "markdown",
   "id": "bda76991-138f-4e22-9ee0-5cb5cb47c0d7",
   "metadata": {},
   "source": [
    "### Initialize RAG agent\n",
    "\n",
    "We store code of the `create_rag_agent` and `RagState` in a separate Python file."
   ]
  },
  {
   "cell_type": "code",
   "execution_count": 13,
   "id": "50c932a1-333e-4059-bcaf-d58b6ca9156b",
   "metadata": {
    "execution": {
     "iopub.execute_input": "2025-05-31T00:00:44.041607Z",
     "iopub.status.busy": "2025-05-31T00:00:44.040937Z",
     "iopub.status.idle": "2025-05-31T00:00:44.070109Z",
     "shell.execute_reply": "2025-05-31T00:00:44.069646Z",
     "shell.execute_reply.started": "2025-05-31T00:00:44.041569Z"
    }
   },
   "outputs": [],
   "source": [
    "from rag_agent_executor import create_rag_agent, RagState"
   ]
  },
  {
   "cell_type": "markdown",
   "id": "b6c015b1-dbe9-4faf-b5ea-652374299aab",
   "metadata": {},
   "source": [
    "## Examples\n",
    "\n",
    "### Use document grading, no external information"
   ]
  },
  {
   "cell_type": "code",
   "execution_count": 14,
   "id": "9a08422c-f9f8-4086-833c-80de75fed71d",
   "metadata": {
    "execution": {
     "iopub.execute_input": "2025-05-31T00:00:46.702932Z",
     "iopub.status.busy": "2025-05-31T00:00:46.701684Z",
     "iopub.status.idle": "2025-05-31T00:00:46.714017Z",
     "shell.execute_reply": "2025-05-31T00:00:46.713435Z",
     "shell.execute_reply.started": "2025-05-31T00:00:46.702883Z"
    }
   },
   "outputs": [],
   "source": [
    "agent = create_rag_agent(\n",
    "        llm=llm,\n",
    "        embedding_model=None, # Not used if retriever_tool is present\n",
    "        vector_store=None, # Not used if retriever_tool is present\n",
    "        retriever_tool=retriever_tool,\n",
    "    external_search_tools=None,\n",
    "        do_document_grading=True,\n",
    "        do_external_search=False,\n",
    "        checkpointer=None,\n",
    "        debug=False,\n",
    "    )"
   ]
  },
  {
   "cell_type": "code",
   "execution_count": 15,
   "id": "1b69f372-4670-45eb-8bb4-d14b3123a7b3",
   "metadata": {
    "execution": {
     "iopub.execute_input": "2025-05-31T00:00:49.732681Z",
     "iopub.status.busy": "2025-05-31T00:00:49.732443Z",
     "iopub.status.idle": "2025-05-31T00:00:56.683762Z",
     "shell.execute_reply": "2025-05-31T00:00:56.682469Z",
     "shell.execute_reply.started": "2025-05-31T00:00:49.732666Z"
    }
   },
   "outputs": [
    {
     "name": "stdout",
     "output_type": "stream",
     "text": [
      "---RETRIEVING DOCUMENTS---\n",
      "---ROUTING AFTER RETRIEVAL (iteration 1, phase iter 0)---\n",
      "Documents found by primary retriever.\n",
      "---GRADING DOCUMENTS---\n",
      "Document assessment: relevant\n",
      "---ROUTING AFTER GRADING (assessment: relevant)---\n",
      "Documents relevant. Proceeding to generate.\n",
      "---GENERATING ANSWER---\n",
      "Generated answer: Lilian Weng, in her article \"Reward Hacking in Reinforcement Learning,\" categorizes types of reward ...\n",
      "---ROUTING AFTER GENERATION---\n",
      "Answer seems sufficient. Ending.\n"
     ]
    }
   ],
   "source": [
    "response = agent.invoke(\n",
    "    {\n",
    "        \"messages\": [\n",
    "            {\n",
    "                \"role\": \"user\",\n",
    "                \"content\": \"What does Lilian Weng say about types of reward hacking?\",\n",
    "            }\n",
    "        ]\n",
    "    }\n",
    ")"
   ]
  },
  {
   "cell_type": "markdown",
   "id": "c74e4532",
   "metadata": {},
   "source": [
    "### Use external information, no document grading"
   ]
  },
  {
   "cell_type": "code",
   "execution_count": 16,
   "id": "53ff068e-053f-41da-a8b5-b23efc2442fd",
   "metadata": {
    "execution": {
     "iopub.execute_input": "2025-05-31T00:03:23.719418Z",
     "iopub.status.busy": "2025-05-31T00:03:23.717962Z",
     "iopub.status.idle": "2025-05-31T00:03:23.727945Z",
     "shell.execute_reply": "2025-05-31T00:03:23.727557Z",
     "shell.execute_reply.started": "2025-05-31T00:03:23.719366Z"
    },
    "scrolled": true
   },
   "outputs": [],
   "source": [
    "agent = create_rag_agent(\n",
    "        llm=llm,\n",
    "        embedding_model=None, # Not used if retriever_tool is present\n",
    "        vector_store=None, # Not used if retriever_tool is present\n",
    "        retriever_tool=retriever_tool,\n",
    "    external_search_tools=tools,\n",
    "        do_document_grading=False,\n",
    "        do_external_search=True,\n",
    "        checkpointer=None,\n",
    "        debug=False,\n",
    "    )"
   ]
  },
  {
   "cell_type": "code",
   "execution_count": 18,
   "id": "0e027561-c144-469c-913d-c3d8295500ed",
   "metadata": {
    "execution": {
     "iopub.execute_input": "2025-05-31T00:04:11.309536Z",
     "iopub.status.busy": "2025-05-31T00:04:11.309258Z",
     "iopub.status.idle": "2025-05-31T00:04:28.717763Z",
     "shell.execute_reply": "2025-05-31T00:04:28.717000Z",
     "shell.execute_reply.started": "2025-05-31T00:04:11.309521Z"
    }
   },
   "outputs": [
    {
     "name": "stdout",
     "output_type": "stream",
     "text": [
      "---RETRIEVING DOCUMENTS---\n",
      "---ROUTING AFTER RETRIEVAL (iteration 1, phase iter 0)---\n",
      "Documents found by primary retriever.\n",
      "---GENERATING ANSWER---\n",
      "Generated answer: The provided documents discuss \"reward hacking\" in the context of reinforcement learning (RL) and ho...\n",
      "---ROUTING AFTER GENERATION---\n",
      "Answer deemed insufficient.\n",
      "Attempting external search due to insufficient answer.\n",
      "---PERFORMING EXTERNAL SEARCH---\n",
      "Invoking external search tool: arxiv\n",
      "Invoking external search tool: wikipedia\n",
      "Invoking external search tool: duckduckgo_results_json\n",
      "Error invoking external search tool duckduckgo_results_json: Client.__init__() got an unexpected keyword argument 'proxies'\n",
      "Found 2 documents from external search.\n",
      "---ROUTING AFTER EXTERNAL SEARCH---\n",
      "Documents found from external search.\n",
      "---GENERATING ANSWER---\n",
      "Generated answer: Based on the retrieved documents, the \"red team\" and \"blue team\" are terms primarily used in context...\n",
      "---ROUTING AFTER GENERATION---\n",
      "Answer seems sufficient. Ending.\n"
     ]
    }
   ],
   "source": [
    "response = agent.invoke(\n",
    "    {\n",
    "        \"messages\": [\n",
    "            {\n",
    "                \"role\": \"user\",\n",
    "                \"content\": \"What is the blue team and red team?\",\n",
    "            }\n",
    "        ]\n",
    "    }\n",
    ")"
   ]
  },
  {
   "cell_type": "markdown",
   "id": "ca258767-ce4f-4eaa-8ae5-25e9361675e1",
   "metadata": {},
   "source": [
    "### Use external information and document grading"
   ]
  },
  {
   "cell_type": "code",
   "execution_count": 20,
   "id": "24d2cefd-d0f0-44ae-aa4b-0436a675dc56",
   "metadata": {
    "execution": {
     "iopub.execute_input": "2025-05-31T00:09:26.363417Z",
     "iopub.status.busy": "2025-05-31T00:09:26.362598Z",
     "iopub.status.idle": "2025-05-31T00:09:26.374868Z",
     "shell.execute_reply": "2025-05-31T00:09:26.374386Z",
     "shell.execute_reply.started": "2025-05-31T00:09:26.363350Z"
    }
   },
   "outputs": [],
   "source": [
    "agent = create_rag_agent(\n",
    "        llm=llm,\n",
    "        embedding_model=None, # Not used if retriever_tool is present\n",
    "        vector_store=None, # Not used if retriever_tool is present\n",
    "        retriever_tool=retriever_tool,\n",
    "    external_search_tools=tools,\n",
    "        do_document_grading=True,\n",
    "        do_external_search=True,\n",
    "        checkpointer=None,\n",
    "        debug=False,\n",
    "    )"
   ]
  },
  {
   "cell_type": "code",
   "execution_count": 21,
   "id": "a82479d9-e7d3-481f-893d-0a95c404f0bf",
   "metadata": {
    "execution": {
     "iopub.execute_input": "2025-05-31T00:09:28.369758Z",
     "iopub.status.busy": "2025-05-31T00:09:28.369515Z",
     "iopub.status.idle": "2025-05-31T00:09:46.073635Z",
     "shell.execute_reply": "2025-05-31T00:09:46.071900Z",
     "shell.execute_reply.started": "2025-05-31T00:09:28.369741Z"
    }
   },
   "outputs": [
    {
     "name": "stdout",
     "output_type": "stream",
     "text": [
      "---RETRIEVING DOCUMENTS---\n",
      "---ROUTING AFTER RETRIEVAL (iteration 1, phase iter 0)---\n",
      "Documents found by primary retriever.\n",
      "---GRADING DOCUMENTS---\n",
      "Document assessment: not_relevant\n",
      "---ROUTING AFTER GRADING (assessment: not_relevant)---\n",
      "Documents assessment: not_relevant. Fallback options.\n",
      "Attempting external search due to poor grading.\n",
      "---PERFORMING EXTERNAL SEARCH---\n",
      "Invoking external search tool: arxiv\n",
      "Invoking external search tool: wikipedia\n",
      "Invoking external search tool: duckduckgo_results_json\n",
      "Error invoking external search tool duckduckgo_results_json: Client.__init__() got an unexpected keyword argument 'proxies'\n",
      "Found 2 documents from external search.\n",
      "---ROUTING AFTER EXTERNAL SEARCH---\n",
      "Documents found from external search.\n",
      "---GRADING DOCUMENTS---\n",
      "Document assessment: relevant\n",
      "---ROUTING AFTER GRADING (assessment: relevant)---\n",
      "Documents relevant. Proceeding to generate.\n",
      "---GENERATING ANSWER---\n",
      "Generated answer: Based on the retrieved documents, here's an explanation of the blue team and red team:\n",
      "\n",
      "**Red Team**...\n",
      "---ROUTING AFTER GENERATION---\n",
      "Answer seems sufficient. Ending.\n"
     ]
    }
   ],
   "source": [
    "response = agent.invoke(\n",
    "    {\n",
    "        \"messages\": [\n",
    "            {\n",
    "                \"role\": \"user\",\n",
    "                \"content\": \"What is the blue team and red team?\",\n",
    "            }\n",
    "        ]\n",
    "    }\n",
    ")"
   ]
  },
  {
   "cell_type": "markdown",
   "id": "eb655cfb-d4e4-4f6a-8a0d-01e8611b18ab",
   "metadata": {},
   "source": [
    "## Visualize"
   ]
  },
  {
   "cell_type": "code",
   "execution_count": 22,
   "id": "7389586c-0468-439f-b978-f45d7153f7d4",
   "metadata": {
    "execution": {
     "iopub.execute_input": "2025-05-31T00:10:08.932878Z",
     "iopub.status.busy": "2025-05-31T00:10:08.932459Z",
     "iopub.status.idle": "2025-05-31T00:10:10.150882Z",
     "shell.execute_reply": "2025-05-31T00:10:10.149648Z",
     "shell.execute_reply.started": "2025-05-31T00:10:08.932846Z"
    }
   },
   "outputs": [
    {
     "data": {
      "image/png": "[encoded data removed]",
      "text/plain": [
       "<IPython.core.display.Image object>"
      ]
     },
     "metadata": {},
     "output_type": "display_data"
    }
   ],
   "source": [
    "from IPython.display import Image, display\n",
    "\n",
    "display(Image(agent.get_graph().draw_mermaid_png()))"
   ]
  },
  {
   "cell_type": "code",
   "execution_count": null,
   "id": "73fd6f3b-b92a-489a-8dd9-33a918f0766a",
   "metadata": {},
   "outputs": [],
   "source": []
  }
 ],
 "metadata": {
  "kernelspec": {
   "display_name": "Python 3 (ipykernel)",
   "language": "python",
   "name": "python3"
  },
  "language_info": {
   "codemirror_mode": {
    "name": "ipython",
    "version": 3
   },
   "file_extension": ".py",
   "mimetype": "text/x-python",
   "name": "python",
   "nbconvert_exporter": "python",
   "pygments_lexer": "ipython3",
   "version": "3.10.12"
  }
 },
 "nbformat": 4,
 "nbformat_minor": 5
}
