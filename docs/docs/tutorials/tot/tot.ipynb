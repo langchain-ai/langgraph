{
 "cells": [
  {
   "cell_type": "markdown",
   "metadata": {},
   "source": [
    "# Tree of Thoughts\n",
    "\n",
    "[Tree of Thoughts](https://arxiv.org/abs/2305.10601) (ToT), by Yao, et. al, is a general LLM agent search algorithm that combines reflection/evaluation and simple search (in this case BFS, though you can apply DFS or other algorithms if you'd like).\n",
    "\n",
    "![LATS diagram](./img/tot.png)\n",
    "\n",
    "It has three main steps:\n",
    "\n",
    "1. Expand: generate 1 or more candidate solutions to the problem.\n",
    "2. Score: measure the quality of the responses.\n",
    "3. Prune: retain the top K best candidates\n",
    "\n",
    "Then return to \"Expand\" if no solution is found (or if the solution is of insufficient quality).\n",
    "\n",
    "\n",
    "## Prerequisites\n",
    "\n",
    "We'll install the tutorial's dependent packages and set our API key for the LLM provider of choice."
   ]
  },
  {
   "cell_type": "code",
   "execution_count": null,
   "metadata": {},
   "outputs": [],
   "source": [
    "%%capture --no-stderr\n",
    "%pip install -U langgraph langchain-openai"
   ]
  },
  {
   "cell_type": "code",
   "execution_count": 1,
   "metadata": {},
   "outputs": [],
   "source": [
    "import getpass\n",
    "import os\n",
    "\n",
    "\n",
    "def _set_env(var: str):\n",
    "    if not os.environ.get(var):\n",
    "        os.environ[var] = getpass.getpass(f\"{var}: \")\n",
    "\n",
    "\n",
    "_set_env(\"OPENAI_API_KEY\")\n",
    "# To visualize the algorithm\n",
    "trace = True\n",
    "if trace:\n",
    "    _set_env(\"LANGSMITH_API_KEY\")\n",
    "    os.environ[\"LANGSMITH_PROJECT\"] = \"ToT Tutorial\""
   ]
  },
  {
   "cell_type": "markdown",
   "metadata": {},
   "source": [
    "## Task Definition\n",
    "\n",
    "Our agent will try to play the \"Game of 24\". Given 4 numbers, it must generate a math equation that uses each of these numbers exactly one time to evaluate to a value of `24`."
   ]
  },
  {
   "cell_type": "code",
   "execution_count": 2,
   "metadata": {},
   "outputs": [],
   "source": [
    "import operator\n",
    "from typing import List, Literal, Union, NamedTuple, Optional\n",
    "from pydantic import BaseModel, Field\n",
    "\n",
    "OperatorType = Literal[\"+\", \"-\", \"*\", \"/\"]\n",
    "TokenType = Union[float, OperatorType]\n",
    "\n",
    "## We use these schemas to prompt the LLM to generate equations that evaluate to 24.\n",
    "\n",
    "\n",
    "class Equation(BaseModel):\n",
    "    \"\"\"The formula combining the provided numbers to reach the target of 24.\"\"\"\n",
    "\n",
    "    tokens: List[TokenType] = Field(\n",
    "        description=\"The stack of tokens and operators in reverse-polish notation. Example: [3, 4, '+', -1, '*'] would evaluate to (3 + 4) * -1 = -7.\",\n",
    "    )\n",
    "\n",
    "    def compute(self) -> float:\n",
    "        op_funcs = {\n",
    "            \"+\": operator.add,\n",
    "            \"-\": operator.sub,\n",
    "            \"*\": operator.mul,\n",
    "            \"/\": operator.truediv,\n",
    "        }\n",
    "        stack = []\n",
    "        for token in self.tokens:\n",
    "            if isinstance(token, float):\n",
    "                stack.append(token)\n",
    "            else:\n",
    "                b, a = stack.pop(), stack.pop()\n",
    "                stack.append(op_funcs[token](a, b))\n",
    "\n",
    "        return stack[0]\n",
    "\n",
    "\n",
    "class GuessEquations(BaseModel):\n",
    "    \"\"\"Submit multiple equations as guesses.\"\"\"\n",
    "\n",
    "    reasoning: str = Field(\n",
    "        description=\"The reasoning behind the submitted guesses. Explain how you arrived at these equations.\"\n",
    "    )\n",
    "\n",
    "    equations: List[Equation] = Field(\n",
    "        description=\"The list of equations to submit as guesses.\"\n",
    "    )\n",
    "\n",
    "\n",
    "## These objects will represent a single \"candidate\" (or scored candidate) within our agent's state.\n",
    "# You can update the candidate object to match your own task.\n",
    "\n",
    "\n",
    "class Candidate(NamedTuple):\n",
    "    candidate: Equation\n",
    "    score: Optional[float] = None\n",
    "    feedback: Optional[str] = None\n",
    "\n",
    "    def __str__(self):\n",
    "        try:\n",
    "            computed = self.candidate.compute()\n",
    "        except Exception as e:\n",
    "            computed = f\"Invalid equation: {self.candidate.tokens}; Error: {repr(e)}\"\n",
    "\n",
    "        return f\"Equation({self.candidate.tokens}) = {computed} (Reward: {self.score})\"\n",
    "\n",
    "\n",
    "class ScoredCandidate(Candidate):\n",
    "    candidate: Equation\n",
    "    score: float\n",
    "    feedback: str"
   ]
  },
  {
   "cell_type": "markdown",
   "metadata": {},
   "source": [
    "#### Fetch data\n",
    "\n",
    "We'll use an example from the [Game of 24](https://github.com/princeton-nlp/tree-of-thought-llm) dataset."
   ]
  },
  {
   "cell_type": "code",
   "execution_count": 3,
   "metadata": {},
   "outputs": [
    {
     "name": "stdout",
     "output_type": "stream",
     "text": [
      "Example puzzles: ['1 1 4 6', '1 1 11 11', '1 1 3 8']\n"
     ]
    }
   ],
   "source": [
    "import requests\n",
    "import csv\n",
    "\n",
    "csv_data = requests.get(\n",
    "    \"https://storage.googleapis.com/benchmarks-artifacts/game-of-24/24.csv\"\n",
    ").content.decode(\"utf-8\")\n",
    "# Get just the Puzzles column (column index 1)\n",
    "puzzles = [row[1].strip() for row in csv.reader(csv_data.splitlines()[1:])]\n",
    "\n",
    "print(f\"Example puzzles: {puzzles[:3]}\")"
   ]
  },
  {
   "cell_type": "markdown",
   "metadata": {},
   "source": [
    "## Expander\n",
    "\n",
    "The \"tree of thoughts\" algorithm is relatively generic. The primary two task-specific components are the **expander** and the **scorer**.\n",
    "The expander (the augmented LLM) tries to generate 1 or more solutions to the problem. On subsequent attempts, it is given a seed/candidate value from \n",
    "the previous search.\n",
    "\n",
    "You can update this section to match your own task requirements. The expander can be arbitrarily complex. All that's required is that it accepts the problem and an optional previous attempt (or attempts) and returns a new result."
   ]
  },
  {
   "cell_type": "code",
   "execution_count": 4,
   "metadata": {},
   "outputs": [],
   "source": [
    "from langchain_core.prompts import ChatPromptTemplate\n",
    "from langchain_openai import ChatOpenAI\n",
    "\n",
    "\n",
    "prompt = ChatPromptTemplate.from_messages(\n",
    "    [\n",
    "        (\n",
    "            \"system\",\n",
    "            \"You are playing the Game of 24. Using the provide numbers, create an equation that evaluates to 24.\\n\"\n",
    "            \"Submit exactly {k} guesses for this round.\",\n",
    "        ),\n",
    "        (\"user\", \"Solve the 24 game for these numbers: {problem}.{candidate}\"),\n",
    "    ],\n",
    ").partial(candidate=\"\")\n",
    "llm = ChatOpenAI(model=\"gpt-4o-mini\")\n",
    "\n",
    "bound_llm = llm.with_structured_output(GuessEquations)\n",
    "solver = prompt | bound_llm"
   ]
  },
  {
   "cell_type": "markdown",
   "metadata": {},
   "source": [
    "# Scorer\n",
    "\n",
    "In this game, the scorer is easy. We need to assert two things:\n",
    "\n",
    "1. The LLM has generated a valid equation using each number exactly one time.\n",
    "2. The equation evaluates to 24.\n",
    "\n",
    "You can update this function to match your own task requirements."
   ]
  },
  {
   "cell_type": "code",
   "execution_count": 5,
   "metadata": {},
   "outputs": [],
   "source": [
    "def compute_score(problem: str, candidate: Candidate) -> ScoredCandidate:\n",
    "    numbers = list(map(int, problem.split()))\n",
    "    # Check that the candidate equation uses all 4 numbers exactly once\n",
    "    used_numbers = [\n",
    "        token for token in candidate.candidate.tokens if isinstance(token, float)\n",
    "    ]\n",
    "    if sorted(used_numbers) != sorted(numbers):\n",
    "        score = 0\n",
    "        feedback = \"The equation must use all 4 numbers exactly once.\"\n",
    "        return ScoredCandidate(\n",
    "            candidate=candidate.candidate, score=score, feedback=feedback\n",
    "        )\n",
    "    try:\n",
    "        result = candidate.candidate.compute()\n",
    "        score = 1 / (1 + abs(24 - result))\n",
    "        feedback = f\"Result: {result}\"\n",
    "    except Exception as e:\n",
    "        score = 0\n",
    "        feedback = f\"Invalid equation. Error: {repr(e)}\"\n",
    "    return ScoredCandidate(\n",
    "        candidate=candidate.candidate, score=score, feedback=feedback\n",
    "    )"
   ]
  },
  {
   "cell_type": "markdown",
   "metadata": {},
   "source": [
    "## Graph\n",
    "\n",
    "Now it's time to create our graph."
   ]
  },
  {
   "cell_type": "code",
   "execution_count": 7,
   "metadata": {},
   "outputs": [],
   "source": [
    "import operator\n",
    "from typing import Optional, Dict, Any\n",
    "from typing_extensions import Annotated, TypedDict\n",
    "from langgraph.graph import StateGraph\n",
    "\n",
    "from langchain_core.runnables import RunnableConfig\n",
    "from langgraph.constants import Send\n",
    "from langgraph.checkpoint.memory import MemorySaver\n",
    "\n",
    "\n",
    "def update_candidates(\n",
    "    existing: Optional[list] = None,\n",
    "    updates: Optional[Union[list, Literal[\"clear\"]]] = None,\n",
    ") -> List[str]:\n",
    "    if existing is None:\n",
    "        existing = []\n",
    "    if updates is None:\n",
    "        return existing\n",
    "    if updates == \"clear\":\n",
    "        return []\n",
    "    # Concatenate the lists\n",
    "    return existing + updates\n",
    "\n",
    "\n",
    "class ToTState(TypedDict):\n",
    "    problem: str\n",
    "    candidates: Annotated[List[Candidate], update_candidates]\n",
    "    scored_candidates: Annotated[List[ScoredCandidate], update_candidates]\n",
    "    depth: Annotated[int, operator.add]\n",
    "\n",
    "\n",
    "class Configuration(TypedDict, total=False):\n",
    "    max_depth: int\n",
    "    threshold: float\n",
    "    k: int\n",
    "    beam_size: int\n",
    "\n",
    "\n",
    "def _ensure_configurable(config: RunnableConfig) -> Configuration:\n",
    "    \"\"\"Get params that configure the search algorithm.\"\"\"\n",
    "    configurable = config.get(\"configurable\", {})\n",
    "    return {\n",
    "        **configurable,\n",
    "        \"max_depth\": configurable.get(\"max_depth\", 10),\n",
    "        \"threshold\": config.get(\"threshold\", 0.9),\n",
    "        \"k\": configurable.get(\"k\", 5),\n",
    "        \"beam_size\": configurable.get(\"beam_size\", 3),\n",
    "    }\n",
    "\n",
    "\n",
    "class ExpansionState(ToTState):\n",
    "    seed: Optional[Candidate]\n",
    "\n",
    "\n",
    "def expand(state: ExpansionState, *, config: RunnableConfig) -> Dict[str, List[str]]:\n",
    "    \"\"\"Generate the next state.\"\"\"\n",
    "    configurable = _ensure_configurable(config)\n",
    "    if not state.get(\"seed\"):\n",
    "        candidate_str = \"\"\n",
    "    else:\n",
    "        candidate_str = \"\\n\\n\" + str(state[\"seed\"])\n",
    "    try:\n",
    "        equation_submission = solver.invoke(\n",
    "            {\n",
    "                \"problem\": state[\"problem\"],\n",
    "                \"candidate\": candidate_str,\n",
    "                \"k\": configurable[\"k\"],\n",
    "            },\n",
    "            config=config,\n",
    "        )\n",
    "    except Exception:\n",
    "        return {\"candidates\": []}\n",
    "    new_candidates = [\n",
    "        Candidate(candidate=equation) for equation in equation_submission.equations\n",
    "    ]\n",
    "    return {\"candidates\": new_candidates}\n",
    "\n",
    "\n",
    "def score(state: ToTState) -> Dict[str, List[float]]:\n",
    "    \"\"\"Evaluate the candidate generations.\"\"\"\n",
    "    candidates = state[\"candidates\"]\n",
    "    scored = []\n",
    "    for candidate in candidates:\n",
    "        scored.append(compute_score(state[\"problem\"], candidate))\n",
    "    return {\"scored_candidates\": scored, \"candidates\": \"clear\"}\n",
    "\n",
    "\n",
    "def prune(\n",
    "    state: ToTState, *, config: RunnableConfig\n",
    ") -> Dict[str, List[Dict[str, Any]]]:\n",
    "    scored_candidates = state[\"scored_candidates\"]\n",
    "    beam_size = _ensure_configurable(config)[\"beam_size\"]\n",
    "    organized = sorted(\n",
    "        scored_candidates, key=lambda candidate: candidate[1], reverse=True\n",
    "    )\n",
    "    pruned = organized[:beam_size]\n",
    "    return {\n",
    "        # Update the starting point for the next iteration\n",
    "        \"candidates\": pruned,\n",
    "        # Clear the old memory\n",
    "        \"scored_candidates\": \"clear\",\n",
    "        # Increment the depth by 1\n",
    "        \"depth\": 1,\n",
    "    }\n",
    "\n",
    "\n",
    "def should_terminate(\n",
    "    state: ToTState, config: RunnableConfig\n",
    ") -> Union[Literal[\"__end__\"], Send]:\n",
    "    configurable = _ensure_configurable(config)\n",
    "    solved = state[\"candidates\"][0].score >= configurable[\"threshold\"]\n",
    "    if solved or state[\"depth\"] >= configurable[\"max_depth\"]:\n",
    "        return \"__end__\"\n",
    "    return [\n",
    "        Send(\"expand\", {**state, \"somevalseed\": candidate})\n",
    "        for candidate in state[\"candidates\"]\n",
    "    ]\n",
    "\n",
    "\n",
    "# Create the graph\n",
    "builder = StateGraph(state_schema=ToTState, config_schema=Configuration)\n",
    "\n",
    "# Add nodes\n",
    "builder.add_node(expand)\n",
    "builder.add_node(score)\n",
    "builder.add_node(prune)\n",
    "\n",
    "# Add edges\n",
    "builder.add_edge(\"expand\", \"score\")\n",
    "builder.add_edge(\"score\", \"prune\")\n",
    "builder.add_conditional_edges(\"prune\", should_terminate, path_map=[\"expand\", \"__end__\"])\n",
    "\n",
    "# Set entry point\n",
    "builder.add_edge(\"__start__\", \"expand\")\n",
    "\n",
    "# Compile the graph\n",
    "graph = builder.compile(checkpointer=MemorySaver())"
   ]
  },
  {
   "cell_type": "code",
   "execution_count": 8,
   "metadata": {},
   "outputs": [
    {
     "data": {
      "image/jpeg": "[encoded data removed]",
      "text/plain": [
       "<IPython.core.display.Image object>"
      ]
     },
     "metadata": {},
     "output_type": "display_data"
    }
   ],
   "source": [
    "from IPython.display import Image, display\n",
    "\n",
    "display(Image(graph.get_graph().draw_mermaid_png()))"
   ]
  },
  {
   "cell_type": "markdown",
   "metadata": {},
   "source": [
    "## Run\n",
    "\n",
    "Now let's try it on one of the puzzles!"
   ]
  },
  {
   "cell_type": "code",
   "execution_count": 10,
   "metadata": {},
   "outputs": [
    {
     "name": "stdout",
     "output_type": "stream",
     "text": [
      "{'expand': {'candidates': [Candidate(candidate=Equation(tokens=[12.0, 5.0, '/', 7.0, '*']), score=None, feedback=None), Candidate(candidate=Equation(tokens=[12.0, 1.0, '+', 5.0, '*']), score=None, feedback=None), Candidate(candidate=Equation(tokens=[12.0, 7.0, '*', 1.0, '/']), score=None, feedback=None), Candidate(candidate=Equation(tokens=[5.0, 7.0, '*', 1.0, '*']), score=None, feedback=None), Candidate(candidate=Equation(tokens=[7.0, 5.0, '*', 12.0, '/']), score=None, feedback=None)]}}\n",
      "{'score': {'candidates': 'clear', 'scored_candidates': [ScoredCandidate(candidate=Equation(tokens=[12.0, 5.0, '/', 7.0, '*']), score=0, feedback='The equation must use all 4 numbers exactly once.'), ScoredCandidate(candidate=Equation(tokens=[12.0, 1.0, '+', 5.0, '*']), score=0, feedback='The equation must use all 4 numbers exactly once.'), ScoredCandidate(candidate=Equation(tokens=[12.0, 7.0, '*', 1.0, '/']), score=0, feedback='The equation must use all 4 numbers exactly once.'), ScoredCandidate(candidate=Equation(tokens=[5.0, 7.0, '*', 1.0, '*']), score=0, feedback='The equation must use all 4 numbers exactly once.'), ScoredCandidate(candidate=Equation(tokens=[7.0, 5.0, '*', 12.0, '/']), score=0, feedback='The equation must use all 4 numbers exactly once.')]}}\n",
      "{'prune': {'candidates': [ScoredCandidate(candidate=Equation(tokens=[12.0, 5.0, '/', 7.0, '*']), score=0, feedback='The equation must use all 4 numbers exactly once.'), ScoredCandidate(candidate=Equation(tokens=[12.0, 1.0, '+', 5.0, '*']), score=0, feedback='The equation must use all 4 numbers exactly once.'), ScoredCandidate(candidate=Equation(tokens=[12.0, 7.0, '*', 1.0, '/']), score=0, feedback='The equation must use all 4 numbers exactly once.')], 'scored_candidates': 'clear', 'depth': 1}}\n",
      "{'expand': {'candidates': [Candidate(candidate=Equation(tokens=[12.0, 5.0, '-', 1.0, '*']), score=None, feedback=None), Candidate(candidate=Equation(tokens=[1.0, 7.0, '*', 5.0, '+']), score=None, feedback=None), Candidate(candidate=Equation(tokens=[12.0, 1.0, '+', 5.0, '*']), score=None, feedback=None), Candidate(candidate=Equation(tokens=[7.0, 5.0, '*', 1.0, '-']), score=None, feedback=None), Candidate(candidate=Equation(tokens=[12.0, 1.0, '*', 5.0, '-']), score=None, feedback=None)]}}\n",
      "{'expand': {'candidates': []}}\n",
      "{'expand': {'candidates': [Candidate(candidate=Equation(tokens=[5.0, 7.0, '*', 12.0, '-']), score=None, feedback=None), Candidate(candidate=Equation(tokens=[1.0, 5.0, 7.0, '*', 12.0, '-', '+']), score=None, feedback=None), Candidate(candidate=Equation(tokens=[12.0, 1.0, '*', 5.0, 7.0, '/']), score=None, feedback=None), Candidate(candidate=Equation(tokens=[12.0, 5.0, '*', 7.0, '/', 1.0, '-']), score=None, feedback=None), Candidate(candidate=Equation(tokens=[5.0, 7.0, '*', 1.0, '-', 12.0, '+']), score=None, feedback=None)]}}\n",
      "{'score': {'candidates': 'clear', 'scored_candidates': [ScoredCandidate(candidate=Equation(tokens=[12.0, 5.0, '/', 7.0, '*']), score=0, feedback='The equation must use all 4 numbers exactly once.'), ScoredCandidate(candidate=Equation(tokens=[12.0, 1.0, '+', 5.0, '*']), score=0, feedback='The equation must use all 4 numbers exactly once.'), ScoredCandidate(candidate=Equation(tokens=[12.0, 7.0, '*', 1.0, '/']), score=0, feedback='The equation must use all 4 numbers exactly once.'), ScoredCandidate(candidate=Equation(tokens=[5.0, 7.0, '*', 12.0, '-']), score=0, feedback='The equation must use all 4 numbers exactly once.'), ScoredCandidate(candidate=Equation(tokens=[1.0, 5.0, 7.0, '*', 12.0, '-', '+']), score=1.0, feedback='Result: 24.0'), ScoredCandidate(candidate=Equation(tokens=[12.0, 1.0, '*', 5.0, 7.0, '/']), score=0.07692307692307693, feedback='Result: 12.0'), ScoredCandidate(candidate=Equation(tokens=[12.0, 5.0, '*', 7.0, '/', 1.0, '-']), score=0.05737704918032786, feedback='Result: 7.571428571428571'), ScoredCandidate(candidate=Equation(tokens=[5.0, 7.0, '*', 1.0, '-', 12.0, '+']), score=0.043478260869565216, feedback='Result: 46.0'), ScoredCandidate(candidate=Equation(tokens=[12.0, 5.0, '-', 1.0, '*']), score=0, feedback='The equation must use all 4 numbers exactly once.'), ScoredCandidate(candidate=Equation(tokens=[1.0, 7.0, '*', 5.0, '+']), score=0, feedback='The equation must use all 4 numbers exactly once.'), ScoredCandidate(candidate=Equation(tokens=[12.0, 1.0, '+', 5.0, '*']), score=0, feedback='The equation must use all 4 numbers exactly once.'), ScoredCandidate(candidate=Equation(tokens=[7.0, 5.0, '*', 1.0, '-']), score=0, feedback='The equation must use all 4 numbers exactly once.'), ScoredCandidate(candidate=Equation(tokens=[12.0, 1.0, '*', 5.0, '-']), score=0, feedback='The equation must use all 4 numbers exactly once.')]}}\n",
      "{'prune': {'candidates': [ScoredCandidate(candidate=Equation(tokens=[1.0, 5.0, 7.0, '*', 12.0, '-', '+']), score=1.0, feedback='Result: 24.0'), ScoredCandidate(candidate=Equation(tokens=[12.0, 1.0, '*', 5.0, 7.0, '/']), score=0.07692307692307693, feedback='Result: 12.0'), ScoredCandidate(candidate=Equation(tokens=[12.0, 5.0, '*', 7.0, '/', 1.0, '-']), score=0.05737704918032786, feedback='Result: 7.571428571428571')], 'scored_candidates': 'clear', 'depth': 1}}\n"
     ]
    }
   ],
   "source": [
    "config = {\n",
    "    \"configurable\": {\n",
    "        \"thread_id\": \"test_1\",\n",
    "        \"depth\": 10,\n",
    "    }\n",
    "}\n",
    "for step in graph.stream({\"problem\": puzzles[42]}, config):\n",
    "    print(step)"
   ]
  },
  {
   "cell_type": "code",
   "execution_count": 16,
   "metadata": {},
   "outputs": [
    {
     "name": "stdout",
     "output_type": "stream",
     "text": [
      "Found a winning solution in 2 steps: [Equation(tokens=[1.0, 5.0, 7.0, '*', 12.0, '-', '+']), 1.0, 'Result: 24.0']\n"
     ]
    }
   ],
   "source": [
    "final_state = graph.get_state(config)\n",
    "winning_solution = final_state.values[\"candidates\"][0]\n",
    "search_depth = final_state.values[\"depth\"]\n",
    "if winning_solution[1] == 1:\n",
    "    print(f\"Found a winning solution in {search_depth} steps: {winning_solution}\")\n",
    "else:\n",
    "    print(\n",
    "        f\"Failed to find a winning solution in {search_depth} steps. Best guess: {winning_solution}\"\n",
    "    )"
   ]
  }
 ],
 "metadata": {
  "kernelspec": {
   "display_name": ".venv",
   "language": "python",
   "name": "python3"
  },
  "language_info": {
   "codemirror_mode": {
    "name": "ipython",
    "version": 3
   },
   "file_extension": ".py",
   "mimetype": "text/x-python",
   "name": "python",
   "nbconvert_exporter": "python",
   "pygments_lexer": "ipython3",
   "version": "3.12.2"
  }
 },
 "nbformat": 4,
 "nbformat_minor": 2
}
